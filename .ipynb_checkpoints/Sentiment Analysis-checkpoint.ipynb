{
 "cells": [
  {
   "cell_type": "code",
   "execution_count": 16,
   "metadata": {},
   "outputs": [],
   "source": [
    "import pandas as pd\n",
    "\n",
    "dk = pd.read_pickle('data/dk_clean.pkl')\n",
    "fd = pd.read_pickle('data/fd_clean.pkl')"
   ]
  },
  {
   "cell_type": "code",
   "execution_count": 17,
   "metadata": {},
   "outputs": [
    {
     "data": {
      "text/html": [
       "<div>\n",
       "<style scoped>\n",
       "    .dataframe tbody tr th:only-of-type {\n",
       "        vertical-align: middle;\n",
       "    }\n",
       "\n",
       "    .dataframe tbody tr th {\n",
       "        vertical-align: top;\n",
       "    }\n",
       "\n",
       "    .dataframe thead th {\n",
       "        text-align: right;\n",
       "    }\n",
       "</style>\n",
       "<table border=\"1\" class=\"dataframe\">\n",
       "  <thead>\n",
       "    <tr style=\"text-align: right;\">\n",
       "      <th></th>\n",
       "      <th>text</th>\n",
       "    </tr>\n",
       "  </thead>\n",
       "  <tbody>\n",
       "    <tr>\n",
       "      <th>0</th>\n",
       "      <td>service college basketball nit us verified me...</td>\n",
       "    </tr>\n",
       "    <tr>\n",
       "      <th>1</th>\n",
       "      <td>nfl dfs seahawks eagles nwe hit cash na perfec...</td>\n",
       "    </tr>\n",
       "    <tr>\n",
       "      <th>2</th>\n",
       "      <td>awesemogolf live nthe awesemogolf pga dfs stra...</td>\n",
       "    </tr>\n",
       "    <tr>\n",
       "      <th>4</th>\n",
       "      <td>boooom nverified winner day n xbd xef xbd xef ...</td>\n",
       "    </tr>\n",
       "    <tr>\n",
       "      <th>5</th>\n",
       "      <td>week waivers faab auction bids cut list defen...</td>\n",
       "    </tr>\n",
       "    <tr>\n",
       "      <th>...</th>\n",
       "      <td>...</td>\n",
       "    </tr>\n",
       "    <tr>\n",
       "      <th>8926</th>\n",
       "      <td>qb toss fantasy points afternoon npatrick maho...</td>\n",
       "    </tr>\n",
       "    <tr>\n",
       "      <th>8927</th>\n",
       "      <td>dailysportpickz nfl pm dfs giveaway nget premi...</td>\n",
       "    </tr>\n",
       "    <tr>\n",
       "      <th>8928</th>\n",
       "      <td>dailysportpickz nfl pm dfs giveaway nget premi...</td>\n",
       "    </tr>\n",
       "    <tr>\n",
       "      <th>8929</th>\n",
       "      <td>dailysportpickz nfl pm dfs giveaway nget premi...</td>\n",
       "    </tr>\n",
       "    <tr>\n",
       "      <th>8930</th>\n",
       "      <td>dailysportpickz nfl pm dfs giveaway nget premi...</td>\n",
       "    </tr>\n",
       "  </tbody>\n",
       "</table>\n",
       "<p>5257 rows × 1 columns</p>\n",
       "</div>"
      ],
      "text/plain": [
       "                                                   text\n",
       "0      service college basketball nit us verified me...\n",
       "1     nfl dfs seahawks eagles nwe hit cash na perfec...\n",
       "2     awesemogolf live nthe awesemogolf pga dfs stra...\n",
       "4     boooom nverified winner day n xbd xef xbd xef ...\n",
       "5      week waivers faab auction bids cut list defen...\n",
       "...                                                 ...\n",
       "8926  qb toss fantasy points afternoon npatrick maho...\n",
       "8927  dailysportpickz nfl pm dfs giveaway nget premi...\n",
       "8928  dailysportpickz nfl pm dfs giveaway nget premi...\n",
       "8929  dailysportpickz nfl pm dfs giveaway nget premi...\n",
       "8930  dailysportpickz nfl pm dfs giveaway nget premi...\n",
       "\n",
       "[5257 rows x 1 columns]"
      ]
     },
     "execution_count": 17,
     "metadata": {},
     "output_type": "execute_result"
    }
   ],
   "source": [
    "dk"
   ]
  },
  {
   "cell_type": "code",
   "execution_count": 32,
   "metadata": {},
   "outputs": [],
   "source": [
    "# dk_corpus = \"\".join(str(tweet) for tweet in dk.text)\n",
    "# fd_corpus = \"\".join(str(tweet) for tweet in fd.text)\n",
    "\n",
    "dk_corpus = pd.Series([tweet for tweet in dk.text])\n",
    "fd_corpus = pd.Series([tweet for tweet in fd.text])"
   ]
  },
  {
   "cell_type": "code",
   "execution_count": 34,
   "metadata": {},
   "outputs": [],
   "source": [
    "from textblob import TextBlob\n",
    "\n",
    "pol = lambda x: TextBlob(x).sentiment.polarity\n",
    "sub = lambda x: TextBlob(x).sentiment.subjectivity"
   ]
  },
  {
   "cell_type": "code",
   "execution_count": 35,
   "metadata": {},
   "outputs": [
    {
     "data": {
      "text/html": [
       "<div>\n",
       "<style scoped>\n",
       "    .dataframe tbody tr th:only-of-type {\n",
       "        vertical-align: middle;\n",
       "    }\n",
       "\n",
       "    .dataframe tbody tr th {\n",
       "        vertical-align: top;\n",
       "    }\n",
       "\n",
       "    .dataframe thead th {\n",
       "        text-align: right;\n",
       "    }\n",
       "</style>\n",
       "<table border=\"1\" class=\"dataframe\">\n",
       "  <thead>\n",
       "    <tr style=\"text-align: right;\">\n",
       "      <th></th>\n",
       "      <th>text</th>\n",
       "      <th>polarity</th>\n",
       "      <th>subjectivity</th>\n",
       "    </tr>\n",
       "  </thead>\n",
       "  <tbody>\n",
       "    <tr>\n",
       "      <th>0</th>\n",
       "      <td>service college basketball nit us verified me...</td>\n",
       "      <td>0.000000</td>\n",
       "      <td>0.0</td>\n",
       "    </tr>\n",
       "    <tr>\n",
       "      <th>1</th>\n",
       "      <td>nfl dfs seahawks eagles nwe hit cash na perfec...</td>\n",
       "      <td>1.000000</td>\n",
       "      <td>1.0</td>\n",
       "    </tr>\n",
       "    <tr>\n",
       "      <th>2</th>\n",
       "      <td>awesemogolf live nthe awesemogolf pga dfs stra...</td>\n",
       "      <td>0.136364</td>\n",
       "      <td>0.5</td>\n",
       "    </tr>\n",
       "    <tr>\n",
       "      <th>4</th>\n",
       "      <td>boooom nverified winner day n xbd xef xbd xef ...</td>\n",
       "      <td>0.000000</td>\n",
       "      <td>0.0</td>\n",
       "    </tr>\n",
       "    <tr>\n",
       "      <th>5</th>\n",
       "      <td>week waivers faab auction bids cut list defen...</td>\n",
       "      <td>0.000000</td>\n",
       "      <td>0.0</td>\n",
       "    </tr>\n",
       "    <tr>\n",
       "      <th>...</th>\n",
       "      <td>...</td>\n",
       "      <td>...</td>\n",
       "      <td>...</td>\n",
       "    </tr>\n",
       "    <tr>\n",
       "      <th>8926</th>\n",
       "      <td>qb toss fantasy points afternoon npatrick maho...</td>\n",
       "      <td>NaN</td>\n",
       "      <td>NaN</td>\n",
       "    </tr>\n",
       "    <tr>\n",
       "      <th>8927</th>\n",
       "      <td>dailysportpickz nfl pm dfs giveaway nget premi...</td>\n",
       "      <td>NaN</td>\n",
       "      <td>NaN</td>\n",
       "    </tr>\n",
       "    <tr>\n",
       "      <th>8928</th>\n",
       "      <td>dailysportpickz nfl pm dfs giveaway nget premi...</td>\n",
       "      <td>NaN</td>\n",
       "      <td>NaN</td>\n",
       "    </tr>\n",
       "    <tr>\n",
       "      <th>8929</th>\n",
       "      <td>dailysportpickz nfl pm dfs giveaway nget premi...</td>\n",
       "      <td>NaN</td>\n",
       "      <td>NaN</td>\n",
       "    </tr>\n",
       "    <tr>\n",
       "      <th>8930</th>\n",
       "      <td>dailysportpickz nfl pm dfs giveaway nget premi...</td>\n",
       "      <td>NaN</td>\n",
       "      <td>NaN</td>\n",
       "    </tr>\n",
       "  </tbody>\n",
       "</table>\n",
       "<p>5257 rows × 3 columns</p>\n",
       "</div>"
      ],
      "text/plain": [
       "                                                   text  polarity  \\\n",
       "0      service college basketball nit us verified me...  0.000000   \n",
       "1     nfl dfs seahawks eagles nwe hit cash na perfec...  1.000000   \n",
       "2     awesemogolf live nthe awesemogolf pga dfs stra...  0.136364   \n",
       "4     boooom nverified winner day n xbd xef xbd xef ...  0.000000   \n",
       "5      week waivers faab auction bids cut list defen...  0.000000   \n",
       "...                                                 ...       ...   \n",
       "8926  qb toss fantasy points afternoon npatrick maho...       NaN   \n",
       "8927  dailysportpickz nfl pm dfs giveaway nget premi...       NaN   \n",
       "8928  dailysportpickz nfl pm dfs giveaway nget premi...       NaN   \n",
       "8929  dailysportpickz nfl pm dfs giveaway nget premi...       NaN   \n",
       "8930  dailysportpickz nfl pm dfs giveaway nget premi...       NaN   \n",
       "\n",
       "      subjectivity  \n",
       "0              0.0  \n",
       "1              1.0  \n",
       "2              0.5  \n",
       "4              0.0  \n",
       "5              0.0  \n",
       "...            ...  \n",
       "8926           NaN  \n",
       "8927           NaN  \n",
       "8928           NaN  \n",
       "8929           NaN  \n",
       "8930           NaN  \n",
       "\n",
       "[5257 rows x 3 columns]"
      ]
     },
     "execution_count": 35,
     "metadata": {},
     "output_type": "execute_result"
    }
   ],
   "source": [
    "dk['polarity'] = dk_corpus.apply(pol)\n",
    "dk['subjectivity'] = dk_corpus.apply(sub)\n",
    "dk"
   ]
  },
  {
   "cell_type": "code",
   "execution_count": 37,
   "metadata": {},
   "outputs": [
    {
     "data": {
      "text/html": [
       "<div>\n",
       "<style scoped>\n",
       "    .dataframe tbody tr th:only-of-type {\n",
       "        vertical-align: middle;\n",
       "    }\n",
       "\n",
       "    .dataframe tbody tr th {\n",
       "        vertical-align: top;\n",
       "    }\n",
       "\n",
       "    .dataframe thead th {\n",
       "        text-align: right;\n",
       "    }\n",
       "</style>\n",
       "<table border=\"1\" class=\"dataframe\">\n",
       "  <thead>\n",
       "    <tr style=\"text-align: right;\">\n",
       "      <th></th>\n",
       "      <th>text</th>\n",
       "      <th>polarity</th>\n",
       "      <th>subjectivity</th>\n",
       "    </tr>\n",
       "  </thead>\n",
       "  <tbody>\n",
       "    <tr>\n",
       "      <th>0</th>\n",
       "      <td>nfl dfs seahawks eagles nwe hit cash na perfec...</td>\n",
       "      <td>1.000000</td>\n",
       "      <td>1.0</td>\n",
       "    </tr>\n",
       "    <tr>\n",
       "      <th>1</th>\n",
       "      <td>awesemogolf live nthe awesemogolf pga dfs stra...</td>\n",
       "      <td>0.136364</td>\n",
       "      <td>0.5</td>\n",
       "    </tr>\n",
       "    <tr>\n",
       "      <th>2</th>\n",
       "      <td>week waivers faab auction bids cut list defen...</td>\n",
       "      <td>0.000000</td>\n",
       "      <td>0.0</td>\n",
       "    </tr>\n",
       "    <tr>\n",
       "      <th>3</th>\n",
       "      <td>co north carolina vs stanford guaranteedpick ...</td>\n",
       "      <td>0.000000</td>\n",
       "      <td>0.0</td>\n",
       "    </tr>\n",
       "    <tr>\n",
       "      <th>4</th>\n",
       "      <td>live nthe awesemogolf pga dfs strategy show m...</td>\n",
       "      <td>0.136364</td>\n",
       "      <td>0.5</td>\n",
       "    </tr>\n",
       "    <tr>\n",
       "      <th>...</th>\n",
       "      <td>...</td>\n",
       "      <td>...</td>\n",
       "      <td>...</td>\n",
       "    </tr>\n",
       "    <tr>\n",
       "      <th>5742</th>\n",
       "      <td>dfs army vip sunday night nfl showdown breakdo...</td>\n",
       "      <td>NaN</td>\n",
       "      <td>NaN</td>\n",
       "    </tr>\n",
       "    <tr>\n",
       "      <th>5743</th>\n",
       "      <td>jerseykidpicks surprised kid connects early te...</td>\n",
       "      <td>NaN</td>\n",
       "      <td>NaN</td>\n",
       "    </tr>\n",
       "    <tr>\n",
       "      <th>5744</th>\n",
       "      <td>dailysportpickz nfl dfs chiefs raiders giveawa...</td>\n",
       "      <td>NaN</td>\n",
       "      <td>NaN</td>\n",
       "    </tr>\n",
       "    <tr>\n",
       "      <th>5745</th>\n",
       "      <td>nfl mnf seavsphi seahawks eagles flyeaglesfly ...</td>\n",
       "      <td>NaN</td>\n",
       "      <td>NaN</td>\n",
       "    </tr>\n",
       "    <tr>\n",
       "      <th>5747</th>\n",
       "      <td>jerseykidpicks fav fdsportsbook tennessee grea...</td>\n",
       "      <td>NaN</td>\n",
       "      <td>NaN</td>\n",
       "    </tr>\n",
       "  </tbody>\n",
       "</table>\n",
       "<p>4321 rows × 3 columns</p>\n",
       "</div>"
      ],
      "text/plain": [
       "                                                   text  polarity  \\\n",
       "0     nfl dfs seahawks eagles nwe hit cash na perfec...  1.000000   \n",
       "1     awesemogolf live nthe awesemogolf pga dfs stra...  0.136364   \n",
       "2      week waivers faab auction bids cut list defen...  0.000000   \n",
       "3      co north carolina vs stanford guaranteedpick ...  0.000000   \n",
       "4      live nthe awesemogolf pga dfs strategy show m...  0.136364   \n",
       "...                                                 ...       ...   \n",
       "5742  dfs army vip sunday night nfl showdown breakdo...       NaN   \n",
       "5743  jerseykidpicks surprised kid connects early te...       NaN   \n",
       "5744  dailysportpickz nfl dfs chiefs raiders giveawa...       NaN   \n",
       "5745  nfl mnf seavsphi seahawks eagles flyeaglesfly ...       NaN   \n",
       "5747  jerseykidpicks fav fdsportsbook tennessee grea...       NaN   \n",
       "\n",
       "      subjectivity  \n",
       "0              1.0  \n",
       "1              0.5  \n",
       "2              0.0  \n",
       "3              0.0  \n",
       "4              0.5  \n",
       "...            ...  \n",
       "5742           NaN  \n",
       "5743           NaN  \n",
       "5744           NaN  \n",
       "5745           NaN  \n",
       "5747           NaN  \n",
       "\n",
       "[4321 rows x 3 columns]"
      ]
     },
     "execution_count": 37,
     "metadata": {},
     "output_type": "execute_result"
    }
   ],
   "source": [
    "fd['polarity'] = fd_corpus.apply(pol)\n",
    "fd['subjectivity'] = fd_corpus.apply(sub)\n",
    "fd"
   ]
  },
  {
   "cell_type": "code",
   "execution_count": 40,
   "metadata": {},
   "outputs": [
    {
     "data": {
      "text/plain": [
       "0.15084990614834673"
      ]
     },
     "execution_count": 40,
     "metadata": {},
     "output_type": "execute_result"
    }
   ],
   "source": [
    "dk.polarity.mean()"
   ]
  },
  {
   "cell_type": "code",
   "execution_count": 42,
   "metadata": {},
   "outputs": [
    {
     "data": {
      "text/plain": [
       "0.2710149581477114"
      ]
     },
     "execution_count": 42,
     "metadata": {},
     "output_type": "execute_result"
    }
   ],
   "source": [
    "dk.subjectivity.mean()"
   ]
  },
  {
   "cell_type": "code",
   "execution_count": 41,
   "metadata": {},
   "outputs": [
    {
     "data": {
      "text/plain": [
       "0.16596796093626542"
      ]
     },
     "execution_count": 41,
     "metadata": {},
     "output_type": "execute_result"
    }
   ],
   "source": [
    "fd.polarity.mean()"
   ]
  },
  {
   "cell_type": "code",
   "execution_count": 43,
   "metadata": {},
   "outputs": [
    {
     "data": {
      "text/plain": [
       "0.2795286284619292"
      ]
     },
     "execution_count": 43,
     "metadata": {},
     "output_type": "execute_result"
    }
   ],
   "source": [
    "fd.subjectivity.mean()"
   ]
  },
  {
   "cell_type": "code",
   "execution_count": 73,
   "metadata": {},
   "outputs": [
    {
     "data": {
      "text/plain": [
       "<matplotlib.collections.PathCollection at 0x7fb137b6bb90>"
      ]
     },
     "execution_count": 73,
     "metadata": {},
     "output_type": "execute_result"
    },
    {
     "data": {
      "text/plain": [
       "<matplotlib.collections.PathCollection at 0x7fb137cc4f10>"
      ]
     },
     "execution_count": 73,
     "metadata": {},
     "output_type": "execute_result"
    },
    {
     "data": {
      "text/plain": [
       "(-1.0, 1.0)"
      ]
     },
     "execution_count": 73,
     "metadata": {},
     "output_type": "execute_result"
    },
    {
     "data": {
      "text/plain": [
       "Text(0.5, 1.0, 'Sentiment Analysis')"
      ]
     },
     "execution_count": 73,
     "metadata": {},
     "output_type": "execute_result"
    },
    {
     "data": {
      "text/plain": [
       "Text(0.5, 0, '<-- Negative -------------------- Positive -->')"
      ]
     },
     "execution_count": 73,
     "metadata": {},
     "output_type": "execute_result"
    },
    {
     "data": {
      "text/plain": [
       "Text(0, 0.5, '<-- Facts ------------------- Opinions -->')"
      ]
     },
     "execution_count": 73,
     "metadata": {},
     "output_type": "execute_result"
    },
    {
     "data": {
      "text/plain": [
       "<matplotlib.legend.Legend at 0x7fb137bbcc10>"
      ]
     },
     "execution_count": 73,
     "metadata": {},
     "output_type": "execute_result"
    },
    {
     "data": {
      "image/png": "[encoded data removed]",
      "text/plain": [
       "<Figure size 576x432 with 1 Axes>"
      ]
     },
     "metadata": {
      "needs_background": "light"
     },
     "output_type": "display_data"
    }
   ],
   "source": [
    "import matplotlib.pyplot as plt\n",
    "\n",
    "plt.rcParams['figure.figsize'] = [8, 6]\n",
    "\n",
    "fig = plt.figure()\n",
    "ax = fig.add_subplot(111)\n",
    "\n",
    "# for index, tweet in enumerate(dk.index):\n",
    "#     dk_x = dk.polarity.loc[tweet]\n",
    "#     dk_y = dk.subjectivity.loc[tweet]\n",
    "\n",
    "    \n",
    "dk_x = dk.polarity\n",
    "dk_y = dk.subjectivity\n",
    "fd_x = fd.polarity\n",
    "fd_y = fd.subjectivity\n",
    "\n",
    "ax.scatter(dk_x, dk_y, color='purple', label = 'DraftKings', alpha = .2)    \n",
    "ax.scatter(fd_x, fd_y, color='green', label = 'Fanduel', alpha = .2)    \n",
    "plt.xlim(-1, 1)    \n",
    "plt.title('Sentiment Analysis', fontsize=20)\n",
    "plt.xlabel('<-- Negative -------------------- Positive -->', fontsize=15)\n",
    "plt.ylabel('<-- Facts ------------------- Opinions -->', fontsize=15)\n",
    "plt.legend(loc='upper left')\n",
    "plt.show()"
   ]
  },
  {
   "cell_type": "code",
   "execution_count": null,
   "metadata": {},
   "outputs": [],
   "source": [
    "for index, tweet in enumerate(fd.index):\n",
    "    x = fd.polarity.loc[tweet]\n",
    "    y = fd.subjectivity.loc[tweet]\n",
    "    plt.scatter(x, y, color='green')\n",
    "    plt.xlim(-1, 1) \n",
    "    \n",
    "plt.title('Sentiment Analysis', fontsize=20)\n",
    "plt.xlabel('<-- Negative -------- Positive -->', fontsize=15)\n",
    "plt.ylabel('<-- Facts -------- Opinions -->', fontsize=15)\n",
    "\n",
    "plt.show()"
   ]
  },
  {
   "cell_type": "code",
   "execution_count": null,
   "metadata": {},
   "outputs": [],
   "source": []
  }
 ],
 "metadata": {
  "kernelspec": {
   "display_name": "Python 3",
   "language": "python",
   "name": "python3"
  },
  "language_info": {
   "codemirror_mode": {
    "name": "ipython",
    "version": 3
   },
   "file_extension": ".py",
   "mimetype": "text/x-python",
   "name": "python",
   "nbconvert_exporter": "python",
   "pygments_lexer": "ipython3",
   "version": "3.7.7"
  }
 },
 "nbformat": 4,
 "nbformat_minor": 4
}
