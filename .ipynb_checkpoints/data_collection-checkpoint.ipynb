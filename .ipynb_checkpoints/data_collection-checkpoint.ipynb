{
 "cells": [
  {
   "cell_type": "code",
   "execution_count": 1,
   "metadata": {
    "scrolled": true
   },
   "outputs": [],
   "source": [
    "import tweepy\n",
    "import csv\n",
    "import pandas as pd\n",
    "import numpy as np\n",
    "\n",
    "# %load_ext autoreload\n",
    "# %autoreload 2"
   ]
  },
  {
   "cell_type": "markdown",
   "metadata": {},
   "source": [
    "# Use TwitterAPI for Draftkings and FanDuel Tweets over the last week (API limitation)\n",
    "   Dates =  24 NOV - 01 DEC\n",
    "    "
   ]
  },
  {
   "cell_type": "code",
   "execution_count": null,
   "metadata": {},
   "outputs": [],
   "source": [
    "dk_hashtags = ['#DraftKings', '#DraftKings_bet', '#DK_Assist', '#DKSportsbook', '#dks', \n",
    "               '#DraftKingsNews', '#dkuk', '#DraftKings_AUS', '#DKCasino' ] \n",
    "fd_hashtags = ['#FanDuel', '#FDSportsbook', '#FanDuel_Support']"
   ]
  },
  {
   "cell_type": "code",
   "execution_count": null,
   "metadata": {},
   "outputs": [],
   "source": [
    "#Twitter credentials\n",
    "consumer_key = 'Y6mRvbhFaZinGb3HMbaekWLk9'\n",
    "consumer_secret = 'R1IWmvvddzAwoJsB3iBogjm8dbncGfiPep5T56D05tZPfUUwBa'\n",
    "access_token = '2888838179-DPfnSZyVwbzIDoXOYOeFfsnA83ySwM2ApgRIHtA'\n",
    "access_token_secret = 'jIw68X4pGlSV3cb58urKrL8mm7EobdtBf9d6XE6XS5MEg'\n",
    "\n",
    "auth = tweepy.OAuthHandler(consumer_key, consumer_secret)\n",
    "auth.set_access_token(access_token, access_token_secret)\n",
    "api = tweepy.API(auth,wait_on_rate_limit=True)"
   ]
  },
  {
   "cell_type": "code",
   "execution_count": null,
   "metadata": {
    "scrolled": true
   },
   "outputs": [],
   "source": [
    "def get_tweets(hashtag_list, file_name):\n",
    "    # Open/Create a file to append data\n",
    "    csvFile = open(file_name, 'a')\n",
    "    csvWriter = csv.writer(csvFile)\n",
    "    for hashtag in hashtag_list:\n",
    "        for tweet in tweepy.Cursor(api.search,q=hashtag,count=5000,\n",
    "                           result = 'recent', include_entities=True,\n",
    "                           lang=\"en\",\n",
    "                           since=\"2020-11-23\").items():\n",
    "#             print(tweet.created_at, tweet.text)\n",
    "            csvWriter.writerow([tweet.created_at, tweet.text.encode('utf-8'), \n",
    "                        tweet.user.screen_name, tweet.user.location,\n",
    "                        tweet.user.followers_count, tweet.user.friends_count,\n",
    "                        tweet.retweet_count, tweet.source])\n",
    "   "
   ]
  },
  {
   "cell_type": "code",
   "execution_count": null,
   "metadata": {},
   "outputs": [],
   "source": [
    "get_tweets(dk_hashtags, 'data/dk.csv')"
   ]
  },
  {
   "cell_type": "code",
   "execution_count": null,
   "metadata": {},
   "outputs": [],
   "source": [
    "get_tweets(fd_hashtags, 'data/fd.csv')"
   ]
  },
  {
   "cell_type": "markdown",
   "metadata": {},
   "source": [
    "# Process data into Pandas and conduct EDA"
   ]
  },
  {
   "cell_type": "code",
   "execution_count": 25,
   "metadata": {},
   "outputs": [
    {
     "name": "stderr",
     "output_type": "stream",
     "text": [
      "/Users/LMC/opt/anaconda3/lib/python3.7/site-packages/ipykernel_launcher.py:3: FutureWarning: Passing a negative integer is deprecated in version 1.0 and will not be supported in future version. Instead, use None to not limit the column width.\n",
      "  This is separate from the ipykernel package so we can avoid doing imports until\n",
      "/Users/LMC/opt/anaconda3/lib/python3.7/site-packages/ipykernel_launcher.py:7: FutureWarning: Passing a negative integer is deprecated in version 1.0 and will not be supported in future version. Instead, use None to not limit the column width.\n",
      "  import sys\n"
     ]
    }
   ],
   "source": [
    "dk_df = pd.read_csv('data/dk.csv')\n",
    "dk_df.columns= ['created', 'text', 'username', 'location', 'follower count', 'friend count', 'retweet', 'source']\n",
    "pd.set_option(\"display.max_colwidth\", -1)\n",
    "\n",
    "fd_df = pd.read_csv('data/fd.csv')\n",
    "fd_df.columns= ['created', 'text', 'username', 'location', 'follower count', 'friend count', 'retweet', 'source']\n",
    "pd.set_option(\"display.max_colwidth\", -1)"
   ]
  },
  {
   "cell_type": "markdown",
   "metadata": {},
   "source": [
    "## DRAFTKINGS EDA"
   ]
  },
  {
   "cell_type": "code",
   "execution_count": 26,
   "metadata": {},
   "outputs": [
    {
     "data": {
      "text/plain": [
       "(8931, 8)"
      ]
     },
     "execution_count": 26,
     "metadata": {},
     "output_type": "execute_result"
    }
   ],
   "source": [
    "dk_df.shape"
   ]
  },
  {
   "cell_type": "code",
   "execution_count": 27,
   "metadata": {},
   "outputs": [
    {
     "name": "stdout",
     "output_type": "stream",
     "text": [
      "<class 'pandas.core.frame.DataFrame'>\n",
      "RangeIndex: 8931 entries, 0 to 8930\n",
      "Data columns (total 8 columns):\n",
      " #   Column          Non-Null Count  Dtype \n",
      "---  ------          --------------  ----- \n",
      " 0   created         8931 non-null   object\n",
      " 1   text            8931 non-null   object\n",
      " 2   username        8931 non-null   object\n",
      " 3   location        6491 non-null   object\n",
      " 4   follower count  8931 non-null   int64 \n",
      " 5   friend count    8931 non-null   int64 \n",
      " 6   retweet         8931 non-null   int64 \n",
      " 7   source          8374 non-null   object\n",
      "dtypes: int64(3), object(5)\n",
      "memory usage: 558.3+ KB\n"
     ]
    }
   ],
   "source": [
    "dk_df.info()"
   ]
  },
  {
   "cell_type": "code",
   "execution_count": 81,
   "metadata": {},
   "outputs": [
    {
     "data": {
      "text/plain": [
       "Chicago, IL                   650\n",
       "Pasadena, California          541\n",
       "Las Vegas, NV                 531\n",
       "United States                 253\n",
       "Massachusetts, USA            186\n",
       "England, United Kingdom       178\n",
       "Henderson, Nevada             135\n",
       "Boston, MA                    123\n",
       "Winners Lane                  88 \n",
       "New Jersey, USA               75 \n",
       "Chicago, Illinois             55 \n",
       "Jersey                        50 \n",
       "Indianapolis, IN              44 \n",
       "New York, NY                  41 \n",
       "Los Angeles, CA               38 \n",
       "Brooklyn, NY                  37 \n",
       "Cash App: $dailysportpickz    36 \n",
       "United Kingdom                34 \n",
       "Cleveland, OH                 34 \n",
       "Brigantine, NJ                32 \n",
       "Name: location, dtype: int64"
      ]
     },
     "execution_count": 81,
     "metadata": {},
     "output_type": "execute_result"
    }
   ],
   "source": [
    "dk_df['location'].value_counts().head(20)"
   ]
  },
  {
   "cell_type": "code",
   "execution_count": 84,
   "metadata": {},
   "outputs": [
    {
     "data": {
      "image/png": "[encoded data removed]",
      "text/plain": [
       "<Figure size 432x288 with 1 Axes>"
      ]
     },
     "metadata": {
      "image/png": {
       "height": 248,
       "width": 362
      }
     },
     "output_type": "display_data"
    }
   ],
   "source": [
    "import matplotlib.pyplot as plt\n",
    "%matplotlib inline\n",
    "%config InlineBackend.figure_format = 'retina'\n",
    "plt.style.use('ggplot')\n",
    "\n",
    "# Pie chart, where the slices will be ordered and plotted counter-clockwise:\n",
    "labels = 'Vegas', 'Chicago, IL', 'Pasadena, CA', 'Massachusetts', 'UK', 'USA'\n",
    "sizes = [666, 650, 541, 309, 178, 253]\n",
    "# explode = (0, 0.1, 0, 0)  # only \"explode\" the 2nd slice (i.e. 'Hogs')\n",
    "\n",
    "fig1, ax1 = plt.subplots()\n",
    "ax1.pie(sizes, explode=None, labels=labels, autopct='%1.1f%%',\n",
    "        shadow=True, startangle=90)\n",
    "ax1.axis('equal')  # Equal aspect ratio ensures that pie is drawn as a circle.\n",
    "plt.title('Top 6 Twitter User Locations - DraftKings')\n",
    "plt.show()"
   ]
  },
  {
   "cell_type": "markdown",
   "metadata": {},
   "source": [
    "### Looking into the retweets for anomolies - discovered that the higher retweets are mostly people promoting their product or offering free products"
   ]
  },
  {
   "cell_type": "code",
   "execution_count": 29,
   "metadata": {},
   "outputs": [
    {
     "data": {
      "text/plain": [
       "0      3188\n",
       "1      1454\n",
       "632    613 \n",
       "2      562 \n",
       "3      279 \n",
       "251    246 \n",
       "4      168 \n",
       "53     156 \n",
       "36     144 \n",
       "8      122 \n",
       "Name: retweet, dtype: int64"
      ]
     },
     "execution_count": 29,
     "metadata": {},
     "output_type": "execute_result"
    }
   ],
   "source": [
    "dk_df.retweet.value_counts()[:10]"
   ]
  },
  {
   "cell_type": "code",
   "execution_count": 51,
   "metadata": {
    "collapsed": true,
    "jupyter": {
     "outputs_hidden": true
    },
    "scrolled": true
   },
   "outputs": [
    {
     "data": {
      "text/html": [
       "<div>\n",
       "<style scoped>\n",
       "    .dataframe tbody tr th:only-of-type {\n",
       "        vertical-align: middle;\n",
       "    }\n",
       "\n",
       "    .dataframe tbody tr th {\n",
       "        vertical-align: top;\n",
       "    }\n",
       "\n",
       "    .dataframe thead th {\n",
       "        text-align: right;\n",
       "    }\n",
       "</style>\n",
       "<table border=\"1\" class=\"dataframe\">\n",
       "  <thead>\n",
       "    <tr style=\"text-align: right;\">\n",
       "      <th></th>\n",
       "      <th>created</th>\n",
       "      <th>text</th>\n",
       "      <th>username</th>\n",
       "      <th>location</th>\n",
       "      <th>follower count</th>\n",
       "      <th>friend count</th>\n",
       "      <th>retweet</th>\n",
       "      <th>source</th>\n",
       "    </tr>\n",
       "  </thead>\n",
       "  <tbody>\n",
       "    <tr>\n",
       "      <th>4167</th>\n",
       "      <td>2020-11-27 16:27:52</td>\n",
       "      <td>b'RT @VegasSyndicate: $500 GUARANTEE TODAY...YOU CAN NOT BEAT IT...\\n\\n+ YOU WILL WIN \\xf0\\x9f\\x92\\xb0\\xf0\\x9f\\x92\\xb2\\xf0\\x9f\\x92\\xb4\\xf0\\x9f\\x92\\xb6\\n\\nWE WENT 11-3 IN #CBB / #1 in the\\xf0\\x9f\\x8c\\x8e\\n\\nWE WILL PRINT MO\\xe2\\x80\\xa6'</td>\n",
       "      <td>VegasSyndicate</td>\n",
       "      <td>Henderson, Nevada</td>\n",
       "      <td>10320</td>\n",
       "      <td>3406</td>\n",
       "      <td>251</td>\n",
       "      <td>Twitter Web App</td>\n",
       "    </tr>\n",
       "    <tr>\n",
       "      <th>4174</th>\n",
       "      <td>2020-11-27 16:22:22</td>\n",
       "      <td>b'RT @VegasSyndicate: $500 GUARANTEE TODAY...YOU CAN NOT BEAT IT...\\n\\n+ YOU WILL WIN \\xf0\\x9f\\x92\\xb0\\xf0\\x9f\\x92\\xb2\\xf0\\x9f\\x92\\xb4\\xf0\\x9f\\x92\\xb6\\n\\nWE WENT 11-3 IN #CBB / #1 in the\\xf0\\x9f\\x8c\\x8e\\n\\nWE WILL PRINT MO\\xe2\\x80\\xa6'</td>\n",
       "      <td>Flazelda</td>\n",
       "      <td>Istanbul</td>\n",
       "      <td>0</td>\n",
       "      <td>157</td>\n",
       "      <td>251</td>\n",
       "      <td>Twitter for Android</td>\n",
       "    </tr>\n",
       "    <tr>\n",
       "      <th>4182</th>\n",
       "      <td>2020-11-27 16:19:46</td>\n",
       "      <td>b'RT @VegasSyndicate: $500 GUARANTEE TODAY...YOU CAN NOT BEAT IT...\\n\\n+ YOU WILL WIN \\xf0\\x9f\\x92\\xb0\\xf0\\x9f\\x92\\xb2\\xf0\\x9f\\x92\\xb4\\xf0\\x9f\\x92\\xb6\\n\\nWE WENT 11-3 IN #CBB / #1 in the\\xf0\\x9f\\x8c\\x8e\\n\\nWE WILL PRINT MO\\xe2\\x80\\xa6'</td>\n",
       "      <td>Matheus_santo12</td>\n",
       "      <td>Novosibirsk</td>\n",
       "      <td>26</td>\n",
       "      <td>343</td>\n",
       "      <td>251</td>\n",
       "      <td>Twitter for Android</td>\n",
       "    </tr>\n",
       "    <tr>\n",
       "      <th>4187</th>\n",
       "      <td>2020-11-27 16:19:05</td>\n",
       "      <td>b'RT @VegasSyndicate: $500 GUARANTEE TODAY...YOU CAN NOT BEAT IT...\\n\\n+ YOU WILL WIN \\xf0\\x9f\\x92\\xb0\\xf0\\x9f\\x92\\xb2\\xf0\\x9f\\x92\\xb4\\xf0\\x9f\\x92\\xb6\\n\\nWE WENT 11-3 IN #CBB / #1 in the\\xf0\\x9f\\x8c\\x8e\\n\\nWE WILL PRINT MO\\xe2\\x80\\xa6'</td>\n",
       "      <td>AgustinSerapio</td>\n",
       "      <td>Sha tin</td>\n",
       "      <td>0</td>\n",
       "      <td>182</td>\n",
       "      <td>251</td>\n",
       "      <td>Twitter for Android</td>\n",
       "    </tr>\n",
       "    <tr>\n",
       "      <th>4197</th>\n",
       "      <td>2020-11-27 16:17:42</td>\n",
       "      <td>b'RT @VegasSyndicate: $500 GUARANTEE TODAY...YOU CAN NOT BEAT IT...\\n\\n+ YOU WILL WIN \\xf0\\x9f\\x92\\xb0\\xf0\\x9f\\x92\\xb2\\xf0\\x9f\\x92\\xb4\\xf0\\x9f\\x92\\xb6\\n\\nWE WENT 11-3 IN #CBB / #1 in the\\xf0\\x9f\\x8c\\x8e\\n\\nWE WILL PRINT MO\\xe2\\x80\\xa6'</td>\n",
       "      <td>jose_eucariz</td>\n",
       "      <td>Sha tin</td>\n",
       "      <td>2</td>\n",
       "      <td>186</td>\n",
       "      <td>251</td>\n",
       "      <td>Twitter for Android</td>\n",
       "    </tr>\n",
       "    <tr>\n",
       "      <th>...</th>\n",
       "      <td>...</td>\n",
       "      <td>...</td>\n",
       "      <td>...</td>\n",
       "      <td>...</td>\n",
       "      <td>...</td>\n",
       "      <td>...</td>\n",
       "      <td>...</td>\n",
       "      <td>...</td>\n",
       "    </tr>\n",
       "    <tr>\n",
       "      <th>4556</th>\n",
       "      <td>2020-11-27 15:14:52</td>\n",
       "      <td>b'RT @VegasSyndicate: $500 GUARANTEE TODAY...YOU CAN NOT BEAT IT...\\n\\n+ YOU WILL WIN \\xf0\\x9f\\x92\\xb0\\xf0\\x9f\\x92\\xb2\\xf0\\x9f\\x92\\xb4\\xf0\\x9f\\x92\\xb6\\n\\nWE WENT 11-3 IN #CBB / #1 in the\\xf0\\x9f\\x8c\\x8e\\n\\nWE WILL PRINT MO\\xe2\\x80\\xa6'</td>\n",
       "      <td>Christin_Stamb</td>\n",
       "      <td>NaN</td>\n",
       "      <td>2</td>\n",
       "      <td>209</td>\n",
       "      <td>251</td>\n",
       "      <td>Twitter for Android</td>\n",
       "    </tr>\n",
       "    <tr>\n",
       "      <th>4558</th>\n",
       "      <td>2020-11-27 15:14:20</td>\n",
       "      <td>b'RT @VegasSyndicate: $500 GUARANTEE TODAY...YOU CAN NOT BEAT IT...\\n\\n+ YOU WILL WIN \\xf0\\x9f\\x92\\xb0\\xf0\\x9f\\x92\\xb2\\xf0\\x9f\\x92\\xb4\\xf0\\x9f\\x92\\xb6\\n\\nWE WENT 11-3 IN #CBB / #1 in the\\xf0\\x9f\\x8c\\x8e\\n\\nWE WILL PRINT MO\\xe2\\x80\\xa6'</td>\n",
       "      <td>NarelaBeL</td>\n",
       "      <td>Hong Kong</td>\n",
       "      <td>1</td>\n",
       "      <td>175</td>\n",
       "      <td>251</td>\n",
       "      <td>Twitter for Android</td>\n",
       "    </tr>\n",
       "    <tr>\n",
       "      <th>4559</th>\n",
       "      <td>2020-11-27 15:14:18</td>\n",
       "      <td>b'RT @VegasSyndicate: $500 GUARANTEE TODAY...YOU CAN NOT BEAT IT...\\n\\n+ YOU WILL WIN \\xf0\\x9f\\x92\\xb0\\xf0\\x9f\\x92\\xb2\\xf0\\x9f\\x92\\xb4\\xf0\\x9f\\x92\\xb6\\n\\nWE WENT 11-3 IN #CBB / #1 in the\\xf0\\x9f\\x8c\\x8e\\n\\nWE WILL PRINT MO\\xe2\\x80\\xa6'</td>\n",
       "      <td>123456216</td>\n",
       "      <td>Κοζανη</td>\n",
       "      <td>30</td>\n",
       "      <td>199</td>\n",
       "      <td>251</td>\n",
       "      <td>Twitter for Android</td>\n",
       "    </tr>\n",
       "    <tr>\n",
       "      <th>4560</th>\n",
       "      <td>2020-11-27 15:13:49</td>\n",
       "      <td>b'RT @VegasSyndicate: $500 GUARANTEE TODAY...YOU CAN NOT BEAT IT...\\n\\n+ YOU WILL WIN \\xf0\\x9f\\x92\\xb0\\xf0\\x9f\\x92\\xb2\\xf0\\x9f\\x92\\xb4\\xf0\\x9f\\x92\\xb6\\n\\nWE WENT 11-3 IN #CBB / #1 in the\\xf0\\x9f\\x8c\\x8e\\n\\nWE WILL PRINT MO\\xe2\\x80\\xa6'</td>\n",
       "      <td>891Bea</td>\n",
       "      <td>NaN</td>\n",
       "      <td>3</td>\n",
       "      <td>181</td>\n",
       "      <td>251</td>\n",
       "      <td>Twitter for Android</td>\n",
       "    </tr>\n",
       "    <tr>\n",
       "      <th>4642</th>\n",
       "      <td>2020-11-27 14:39:59</td>\n",
       "      <td>b'$500 GUARANTEE TODAY...YOU CAN NOT BEAT IT...\\n\\n+ YOU WILL WIN \\xf0\\x9f\\x92\\xb0\\xf0\\x9f\\x92\\xb2\\xf0\\x9f\\x92\\xb4\\xf0\\x9f\\x92\\xb6\\n\\nWE WENT 11-3 IN #CBB / #1 in the\\xf0\\x9f\\x8c\\x8e\\n\\nWE WILL PRIN\\xe2\\x80\\xa6 https://t.co/tv7IsBT9vH'</td>\n",
       "      <td>VegasSyndicate</td>\n",
       "      <td>Henderson, Nevada</td>\n",
       "      <td>10320</td>\n",
       "      <td>3406</td>\n",
       "      <td>251</td>\n",
       "      <td>Twitter Web App</td>\n",
       "    </tr>\n",
       "  </tbody>\n",
       "</table>\n",
       "<p>246 rows × 8 columns</p>\n",
       "</div>"
      ],
      "text/plain": [
       "                  created  \\\n",
       "4167  2020-11-27 16:27:52   \n",
       "4174  2020-11-27 16:22:22   \n",
       "4182  2020-11-27 16:19:46   \n",
       "4187  2020-11-27 16:19:05   \n",
       "4197  2020-11-27 16:17:42   \n",
       "...                   ...   \n",
       "4556  2020-11-27 15:14:52   \n",
       "4558  2020-11-27 15:14:20   \n",
       "4559  2020-11-27 15:14:18   \n",
       "4560  2020-11-27 15:13:49   \n",
       "4642  2020-11-27 14:39:59   \n",
       "\n",
       "                                                                                                                                                                                                                                             text  \\\n",
       "4167  b'RT @VegasSyndicate: $500 GUARANTEE TODAY...YOU CAN NOT BEAT IT...\\n\\n+ YOU WILL WIN \\xf0\\x9f\\x92\\xb0\\xf0\\x9f\\x92\\xb2\\xf0\\x9f\\x92\\xb4\\xf0\\x9f\\x92\\xb6\\n\\nWE WENT 11-3 IN #CBB / #1 in the\\xf0\\x9f\\x8c\\x8e\\n\\nWE WILL PRINT MO\\xe2\\x80\\xa6'   \n",
       "4174  b'RT @VegasSyndicate: $500 GUARANTEE TODAY...YOU CAN NOT BEAT IT...\\n\\n+ YOU WILL WIN \\xf0\\x9f\\x92\\xb0\\xf0\\x9f\\x92\\xb2\\xf0\\x9f\\x92\\xb4\\xf0\\x9f\\x92\\xb6\\n\\nWE WENT 11-3 IN #CBB / #1 in the\\xf0\\x9f\\x8c\\x8e\\n\\nWE WILL PRINT MO\\xe2\\x80\\xa6'   \n",
       "4182  b'RT @VegasSyndicate: $500 GUARANTEE TODAY...YOU CAN NOT BEAT IT...\\n\\n+ YOU WILL WIN \\xf0\\x9f\\x92\\xb0\\xf0\\x9f\\x92\\xb2\\xf0\\x9f\\x92\\xb4\\xf0\\x9f\\x92\\xb6\\n\\nWE WENT 11-3 IN #CBB / #1 in the\\xf0\\x9f\\x8c\\x8e\\n\\nWE WILL PRINT MO\\xe2\\x80\\xa6'   \n",
       "4187  b'RT @VegasSyndicate: $500 GUARANTEE TODAY...YOU CAN NOT BEAT IT...\\n\\n+ YOU WILL WIN \\xf0\\x9f\\x92\\xb0\\xf0\\x9f\\x92\\xb2\\xf0\\x9f\\x92\\xb4\\xf0\\x9f\\x92\\xb6\\n\\nWE WENT 11-3 IN #CBB / #1 in the\\xf0\\x9f\\x8c\\x8e\\n\\nWE WILL PRINT MO\\xe2\\x80\\xa6'   \n",
       "4197  b'RT @VegasSyndicate: $500 GUARANTEE TODAY...YOU CAN NOT BEAT IT...\\n\\n+ YOU WILL WIN \\xf0\\x9f\\x92\\xb0\\xf0\\x9f\\x92\\xb2\\xf0\\x9f\\x92\\xb4\\xf0\\x9f\\x92\\xb6\\n\\nWE WENT 11-3 IN #CBB / #1 in the\\xf0\\x9f\\x8c\\x8e\\n\\nWE WILL PRINT MO\\xe2\\x80\\xa6'   \n",
       "...                                                                                                                                                                                                                                           ...   \n",
       "4556  b'RT @VegasSyndicate: $500 GUARANTEE TODAY...YOU CAN NOT BEAT IT...\\n\\n+ YOU WILL WIN \\xf0\\x9f\\x92\\xb0\\xf0\\x9f\\x92\\xb2\\xf0\\x9f\\x92\\xb4\\xf0\\x9f\\x92\\xb6\\n\\nWE WENT 11-3 IN #CBB / #1 in the\\xf0\\x9f\\x8c\\x8e\\n\\nWE WILL PRINT MO\\xe2\\x80\\xa6'   \n",
       "4558  b'RT @VegasSyndicate: $500 GUARANTEE TODAY...YOU CAN NOT BEAT IT...\\n\\n+ YOU WILL WIN \\xf0\\x9f\\x92\\xb0\\xf0\\x9f\\x92\\xb2\\xf0\\x9f\\x92\\xb4\\xf0\\x9f\\x92\\xb6\\n\\nWE WENT 11-3 IN #CBB / #1 in the\\xf0\\x9f\\x8c\\x8e\\n\\nWE WILL PRINT MO\\xe2\\x80\\xa6'   \n",
       "4559  b'RT @VegasSyndicate: $500 GUARANTEE TODAY...YOU CAN NOT BEAT IT...\\n\\n+ YOU WILL WIN \\xf0\\x9f\\x92\\xb0\\xf0\\x9f\\x92\\xb2\\xf0\\x9f\\x92\\xb4\\xf0\\x9f\\x92\\xb6\\n\\nWE WENT 11-3 IN #CBB / #1 in the\\xf0\\x9f\\x8c\\x8e\\n\\nWE WILL PRINT MO\\xe2\\x80\\xa6'   \n",
       "4560  b'RT @VegasSyndicate: $500 GUARANTEE TODAY...YOU CAN NOT BEAT IT...\\n\\n+ YOU WILL WIN \\xf0\\x9f\\x92\\xb0\\xf0\\x9f\\x92\\xb2\\xf0\\x9f\\x92\\xb4\\xf0\\x9f\\x92\\xb6\\n\\nWE WENT 11-3 IN #CBB / #1 in the\\xf0\\x9f\\x8c\\x8e\\n\\nWE WILL PRINT MO\\xe2\\x80\\xa6'   \n",
       "4642  b'$500 GUARANTEE TODAY...YOU CAN NOT BEAT IT...\\n\\n+ YOU WILL WIN \\xf0\\x9f\\x92\\xb0\\xf0\\x9f\\x92\\xb2\\xf0\\x9f\\x92\\xb4\\xf0\\x9f\\x92\\xb6\\n\\nWE WENT 11-3 IN #CBB / #1 in the\\xf0\\x9f\\x8c\\x8e\\n\\nWE WILL PRIN\\xe2\\x80\\xa6 https://t.co/tv7IsBT9vH'   \n",
       "\n",
       "             username           location  follower count  friend count  \\\n",
       "4167  VegasSyndicate   Henderson, Nevada  10320           3406           \n",
       "4174  Flazelda         Istanbul           0               157            \n",
       "4182  Matheus_santo12  Novosibirsk        26              343            \n",
       "4187  AgustinSerapio   Sha tin            0               182            \n",
       "4197  jose_eucariz     Sha tin            2               186            \n",
       "...            ...         ...           ..               ...            \n",
       "4556  Christin_Stamb   NaN                2               209            \n",
       "4558  NarelaBeL        Hong Kong          1               175            \n",
       "4559  123456216        Κοζανη             30              199            \n",
       "4560  891Bea           NaN                3               181            \n",
       "4642  VegasSyndicate   Henderson, Nevada  10320           3406           \n",
       "\n",
       "      retweet               source  \n",
       "4167  251      Twitter Web App      \n",
       "4174  251      Twitter for Android  \n",
       "4182  251      Twitter for Android  \n",
       "4187  251      Twitter for Android  \n",
       "4197  251      Twitter for Android  \n",
       "...   ...                      ...  \n",
       "4556  251      Twitter for Android  \n",
       "4558  251      Twitter for Android  \n",
       "4559  251      Twitter for Android  \n",
       "4560  251      Twitter for Android  \n",
       "4642  251      Twitter Web App      \n",
       "\n",
       "[246 rows x 8 columns]"
      ]
     },
     "execution_count": 51,
     "metadata": {},
     "output_type": "execute_result"
    }
   ],
   "source": [
    "# panini_bot = dk_df[dk_df.retweet == 632]\n",
    "#user - @MONEYGANGJAMES1, a lot of bot looking usernames\n",
    "# # list(panini_bot.username)\n",
    "# vegassyndicate = dk_df[dk_df.retweet == 251]\n",
    "# list(vegassyndicate.username)\n",
    "#user = @Vegassyndicate, more actual users"
   ]
  },
  {
   "cell_type": "code",
   "execution_count": 31,
   "metadata": {
    "collapsed": true,
    "jupyter": {
     "outputs_hidden": true
    }
   },
   "outputs": [
    {
     "data": {
      "text/html": [
       "<div>\n",
       "<style scoped>\n",
       "    .dataframe tbody tr th:only-of-type {\n",
       "        vertical-align: middle;\n",
       "    }\n",
       "\n",
       "    .dataframe tbody tr th {\n",
       "        vertical-align: top;\n",
       "    }\n",
       "\n",
       "    .dataframe thead th {\n",
       "        text-align: right;\n",
       "    }\n",
       "</style>\n",
       "<table border=\"1\" class=\"dataframe\">\n",
       "  <thead>\n",
       "    <tr style=\"text-align: right;\">\n",
       "      <th></th>\n",
       "      <th>created</th>\n",
       "      <th>text</th>\n",
       "      <th>username</th>\n",
       "      <th>location</th>\n",
       "      <th>follower count</th>\n",
       "      <th>friend count</th>\n",
       "      <th>retweet</th>\n",
       "      <th>source</th>\n",
       "    </tr>\n",
       "  </thead>\n",
       "  <tbody>\n",
       "    <tr>\n",
       "      <th>302</th>\n",
       "      <td>2020-12-01 04:01:45</td>\n",
       "      <td>b'RT @dailysportpickz: NFL DFS Seahawks v. Eagles GIVEAWAY\\nOne Person who RTs will Win the Premium Lineup for Free!\\nMust be Following to Ente\\xe2\\x80\\xa6'</td>\n",
       "      <td>PVerna87</td>\n",
       "      <td>Hope Mills, NC</td>\n",
       "      <td>287</td>\n",
       "      <td>358</td>\n",
       "      <td>36</td>\n",
       "      <td>Twitter for iPhone</td>\n",
       "    </tr>\n",
       "    <tr>\n",
       "      <th>409</th>\n",
       "      <td>2020-12-01 00:57:01</td>\n",
       "      <td>b'RT @dailysportpickz: NFL DFS Seahawks v. Eagles GIVEAWAY\\nOne Person who RTs will Win the Premium Lineup for Free!\\nMust be Following to Ente\\xe2\\x80\\xa6'</td>\n",
       "      <td>hungy79</td>\n",
       "      <td>Kaukauna, WI</td>\n",
       "      <td>63</td>\n",
       "      <td>224</td>\n",
       "      <td>36</td>\n",
       "      <td>Twitter for iPad</td>\n",
       "    </tr>\n",
       "    <tr>\n",
       "      <th>413</th>\n",
       "      <td>2020-12-01 00:54:07</td>\n",
       "      <td>b'RT @dailysportpickz: NFL DFS Seahawks v. Eagles GIVEAWAY\\nOne Person who RTs will Win the Premium Lineup for Free!\\nMust be Following to Ente\\xe2\\x80\\xa6'</td>\n",
       "      <td>FishRulez</td>\n",
       "      <td>Mount Clemens, MI</td>\n",
       "      <td>174</td>\n",
       "      <td>296</td>\n",
       "      <td>36</td>\n",
       "      <td>Twitter for iPhone</td>\n",
       "    </tr>\n",
       "    <tr>\n",
       "      <th>420</th>\n",
       "      <td>2020-12-01 00:41:08</td>\n",
       "      <td>b'RT @dailysportpickz: NFL DFS Seahawks v. Eagles GIVEAWAY\\nOne Person who RTs will Win the Premium Lineup for Free!\\nMust be Following to Ente\\xe2\\x80\\xa6'</td>\n",
       "      <td>TalkFantasyCam</td>\n",
       "      <td>NaN</td>\n",
       "      <td>18</td>\n",
       "      <td>165</td>\n",
       "      <td>36</td>\n",
       "      <td>Twitter for iPhone</td>\n",
       "    </tr>\n",
       "    <tr>\n",
       "      <th>421</th>\n",
       "      <td>2020-12-01 00:41:03</td>\n",
       "      <td>b'RT @dailysportpickz: NFL DFS Seahawks v. Eagles GIVEAWAY\\nOne Person who RTs will Win the Premium Lineup for Free!\\nMust be Following to Ente\\xe2\\x80\\xa6'</td>\n",
       "      <td>bikeskateaj1</td>\n",
       "      <td>NaN</td>\n",
       "      <td>60</td>\n",
       "      <td>400</td>\n",
       "      <td>36</td>\n",
       "      <td>Twitter for Android</td>\n",
       "    </tr>\n",
       "    <tr>\n",
       "      <th>...</th>\n",
       "      <td>...</td>\n",
       "      <td>...</td>\n",
       "      <td>...</td>\n",
       "      <td>...</td>\n",
       "      <td>...</td>\n",
       "      <td>...</td>\n",
       "      <td>...</td>\n",
       "      <td>...</td>\n",
       "    </tr>\n",
       "    <tr>\n",
       "      <th>8186</th>\n",
       "      <td>2020-11-30 22:06:17</td>\n",
       "      <td>b'RT @dailysportpickz: NFL DFS Seahawks v. Eagles GIVEAWAY\\nOne Person who RTs will Win the Premium Lineup for Free!\\nMust be Following to Ente\\xe2\\x80\\xa6'</td>\n",
       "      <td>LunaJavier33</td>\n",
       "      <td>NaN</td>\n",
       "      <td>7</td>\n",
       "      <td>28</td>\n",
       "      <td>36</td>\n",
       "      <td>Twitter Web App</td>\n",
       "    </tr>\n",
       "    <tr>\n",
       "      <th>8188</th>\n",
       "      <td>2020-11-30 22:05:34</td>\n",
       "      <td>b'RT @dailysportpickz: NFL DFS Seahawks v. Eagles GIVEAWAY\\nOne Person who RTs will Win the Premium Lineup for Free!\\nMust be Following to Ente\\xe2\\x80\\xa6'</td>\n",
       "      <td>LarsonBrandon</td>\n",
       "      <td>NaN</td>\n",
       "      <td>91</td>\n",
       "      <td>536</td>\n",
       "      <td>36</td>\n",
       "      <td>Twitter for iPhone</td>\n",
       "    </tr>\n",
       "    <tr>\n",
       "      <th>8189</th>\n",
       "      <td>2020-11-30 22:03:56</td>\n",
       "      <td>b'RT @dailysportpickz: NFL DFS Seahawks v. Eagles GIVEAWAY\\nOne Person who RTs will Win the Premium Lineup for Free!\\nMust be Following to Ente\\xe2\\x80\\xa6'</td>\n",
       "      <td>volpaul99</td>\n",
       "      <td>NaN</td>\n",
       "      <td>423</td>\n",
       "      <td>901</td>\n",
       "      <td>36</td>\n",
       "      <td>Twitter for iPhone</td>\n",
       "    </tr>\n",
       "    <tr>\n",
       "      <th>8190</th>\n",
       "      <td>2020-11-30 22:03:56</td>\n",
       "      <td>b'RT @dailysportpickz: NFL DFS Seahawks v. Eagles GIVEAWAY\\nOne Person who RTs will Win the Premium Lineup for Free!\\nMust be Following to Ente\\xe2\\x80\\xa6'</td>\n",
       "      <td>and1street13</td>\n",
       "      <td>NaN</td>\n",
       "      <td>26</td>\n",
       "      <td>156</td>\n",
       "      <td>36</td>\n",
       "      <td>Twitter for iPhone</td>\n",
       "    </tr>\n",
       "    <tr>\n",
       "      <th>8191</th>\n",
       "      <td>2020-11-30 22:03:42</td>\n",
       "      <td>b'NFL DFS Seahawks v. Eagles GIVEAWAY\\nOne Person who RTs will Win the Premium Lineup for Free!\\nMust be Following to E\\xe2\\x80\\xa6 https://t.co/1skICj3xWF'</td>\n",
       "      <td>dailysportpickz</td>\n",
       "      <td>Cash App: $dailysportpickz</td>\n",
       "      <td>1443</td>\n",
       "      <td>3474</td>\n",
       "      <td>36</td>\n",
       "      <td>Twitter Web App</td>\n",
       "    </tr>\n",
       "  </tbody>\n",
       "</table>\n",
       "<p>144 rows × 8 columns</p>\n",
       "</div>"
      ],
      "text/plain": [
       "                  created  \\\n",
       "302   2020-12-01 04:01:45   \n",
       "409   2020-12-01 00:57:01   \n",
       "413   2020-12-01 00:54:07   \n",
       "420   2020-12-01 00:41:08   \n",
       "421   2020-12-01 00:41:03   \n",
       "...                   ...   \n",
       "8186  2020-11-30 22:06:17   \n",
       "8188  2020-11-30 22:05:34   \n",
       "8189  2020-11-30 22:03:56   \n",
       "8190  2020-11-30 22:03:56   \n",
       "8191  2020-11-30 22:03:42   \n",
       "\n",
       "                                                                                                                                                              text  \\\n",
       "302   b'RT @dailysportpickz: NFL DFS Seahawks v. Eagles GIVEAWAY\\nOne Person who RTs will Win the Premium Lineup for Free!\\nMust be Following to Ente\\xe2\\x80\\xa6'   \n",
       "409   b'RT @dailysportpickz: NFL DFS Seahawks v. Eagles GIVEAWAY\\nOne Person who RTs will Win the Premium Lineup for Free!\\nMust be Following to Ente\\xe2\\x80\\xa6'   \n",
       "413   b'RT @dailysportpickz: NFL DFS Seahawks v. Eagles GIVEAWAY\\nOne Person who RTs will Win the Premium Lineup for Free!\\nMust be Following to Ente\\xe2\\x80\\xa6'   \n",
       "420   b'RT @dailysportpickz: NFL DFS Seahawks v. Eagles GIVEAWAY\\nOne Person who RTs will Win the Premium Lineup for Free!\\nMust be Following to Ente\\xe2\\x80\\xa6'   \n",
       "421   b'RT @dailysportpickz: NFL DFS Seahawks v. Eagles GIVEAWAY\\nOne Person who RTs will Win the Premium Lineup for Free!\\nMust be Following to Ente\\xe2\\x80\\xa6'   \n",
       "...                                                                                                                                                            ...   \n",
       "8186  b'RT @dailysportpickz: NFL DFS Seahawks v. Eagles GIVEAWAY\\nOne Person who RTs will Win the Premium Lineup for Free!\\nMust be Following to Ente\\xe2\\x80\\xa6'   \n",
       "8188  b'RT @dailysportpickz: NFL DFS Seahawks v. Eagles GIVEAWAY\\nOne Person who RTs will Win the Premium Lineup for Free!\\nMust be Following to Ente\\xe2\\x80\\xa6'   \n",
       "8189  b'RT @dailysportpickz: NFL DFS Seahawks v. Eagles GIVEAWAY\\nOne Person who RTs will Win the Premium Lineup for Free!\\nMust be Following to Ente\\xe2\\x80\\xa6'   \n",
       "8190  b'RT @dailysportpickz: NFL DFS Seahawks v. Eagles GIVEAWAY\\nOne Person who RTs will Win the Premium Lineup for Free!\\nMust be Following to Ente\\xe2\\x80\\xa6'   \n",
       "8191  b'NFL DFS Seahawks v. Eagles GIVEAWAY\\nOne Person who RTs will Win the Premium Lineup for Free!\\nMust be Following to E\\xe2\\x80\\xa6 https://t.co/1skICj3xWF'   \n",
       "\n",
       "             username                    location  follower count  \\\n",
       "302   PVerna87         Hope Mills, NC              287              \n",
       "409   hungy79          Kaukauna, WI                63               \n",
       "413   FishRulez        Mount Clemens, MI           174              \n",
       "420   TalkFantasyCam   NaN                         18               \n",
       "421   bikeskateaj1     NaN                         60               \n",
       "...            ...     ...                         ..               \n",
       "8186  LunaJavier33     NaN                         7                \n",
       "8188  LarsonBrandon    NaN                         91               \n",
       "8189  volpaul99        NaN                         423              \n",
       "8190  and1street13     NaN                         26               \n",
       "8191  dailysportpickz  Cash App: $dailysportpickz  1443             \n",
       "\n",
       "      friend count  retweet               source  \n",
       "302   358           36       Twitter for iPhone   \n",
       "409   224           36       Twitter for iPad     \n",
       "413   296           36       Twitter for iPhone   \n",
       "420   165           36       Twitter for iPhone   \n",
       "421   400           36       Twitter for Android  \n",
       "...   ...           ..                       ...  \n",
       "8186  28            36       Twitter Web App      \n",
       "8188  536           36       Twitter for iPhone   \n",
       "8189  901           36       Twitter for iPhone   \n",
       "8190  156           36       Twitter for iPhone   \n",
       "8191  3474          36       Twitter Web App      \n",
       "\n",
       "[144 rows x 8 columns]"
      ]
     },
     "execution_count": 31,
     "metadata": {},
     "output_type": "execute_result"
    }
   ],
   "source": [
    "dk_df[dk_df.retweet == 36]\n",
    "# tagged - @dailysportpickz, giveaway for a RT"
   ]
  },
  {
   "cell_type": "code",
   "execution_count": 32,
   "metadata": {
    "collapsed": true,
    "jupyter": {
     "outputs_hidden": true
    }
   },
   "outputs": [
    {
     "data": {
      "text/html": [
       "<div>\n",
       "<style scoped>\n",
       "    .dataframe tbody tr th:only-of-type {\n",
       "        vertical-align: middle;\n",
       "    }\n",
       "\n",
       "    .dataframe tbody tr th {\n",
       "        vertical-align: top;\n",
       "    }\n",
       "\n",
       "    .dataframe thead th {\n",
       "        text-align: right;\n",
       "    }\n",
       "</style>\n",
       "<table border=\"1\" class=\"dataframe\">\n",
       "  <thead>\n",
       "    <tr style=\"text-align: right;\">\n",
       "      <th></th>\n",
       "      <th>created</th>\n",
       "      <th>text</th>\n",
       "      <th>username</th>\n",
       "      <th>location</th>\n",
       "      <th>follower count</th>\n",
       "      <th>friend count</th>\n",
       "      <th>retweet</th>\n",
       "      <th>source</th>\n",
       "    </tr>\n",
       "  </thead>\n",
       "  <tbody>\n",
       "    <tr>\n",
       "      <th>717</th>\n",
       "      <td>2020-11-30 19:22:57</td>\n",
       "      <td>b\"RT @dailysportpickz: If the Packers win Tonight on #SNF against the Bears I'll give one person who RTs this tweet and Follows Me all of my\\xe2\\x80\\xa6\"</td>\n",
       "      <td>KnicksRollCall</td>\n",
       "      <td>New York, USA</td>\n",
       "      <td>52</td>\n",
       "      <td>104</td>\n",
       "      <td>53</td>\n",
       "      <td>Twitter for Android</td>\n",
       "    </tr>\n",
       "    <tr>\n",
       "      <th>718</th>\n",
       "      <td>2020-11-30 19:22:56</td>\n",
       "      <td>b\"RT @dailysportpickz: If the Packers win Tonight on #SNF against the Bears I'll give one person who RTs this tweet and Follows Me all of my\\xe2\\x80\\xa6\"</td>\n",
       "      <td>G2thAdon</td>\n",
       "      <td>NaN</td>\n",
       "      <td>858</td>\n",
       "      <td>824</td>\n",
       "      <td>53</td>\n",
       "      <td>Twitter for Android</td>\n",
       "    </tr>\n",
       "    <tr>\n",
       "      <th>719</th>\n",
       "      <td>2020-11-30 19:22:50</td>\n",
       "      <td>b\"RT @dailysportpickz: If the Packers win Tonight on #SNF against the Bears I'll give one person who RTs this tweet and Follows Me all of my\\xe2\\x80\\xa6\"</td>\n",
       "      <td>UpstateApes</td>\n",
       "      <td>Upstate NY</td>\n",
       "      <td>203</td>\n",
       "      <td>694</td>\n",
       "      <td>53</td>\n",
       "      <td>Twitter for Android</td>\n",
       "    </tr>\n",
       "    <tr>\n",
       "      <th>720</th>\n",
       "      <td>2020-11-30 19:22:44</td>\n",
       "      <td>b\"RT @dailysportpickz: If the Packers win Tonight on #SNF against the Bears I'll give one person who RTs this tweet and Follows Me all of my\\xe2\\x80\\xa6\"</td>\n",
       "      <td>UpstateApeG</td>\n",
       "      <td>Upstate</td>\n",
       "      <td>53</td>\n",
       "      <td>122</td>\n",
       "      <td>53</td>\n",
       "      <td>Twitter for Android</td>\n",
       "    </tr>\n",
       "    <tr>\n",
       "      <th>831</th>\n",
       "      <td>2020-11-30 15:54:06</td>\n",
       "      <td>b\"RT @dailysportpickz: If the Packers win Tonight on #SNF against the Bears I'll give one person who RTs this tweet and Follows Me all of my\\xe2\\x80\\xa6\"</td>\n",
       "      <td>Beanshockey</td>\n",
       "      <td>NaN</td>\n",
       "      <td>100</td>\n",
       "      <td>184</td>\n",
       "      <td>53</td>\n",
       "      <td>Twitter Web App</td>\n",
       "    </tr>\n",
       "    <tr>\n",
       "      <th>...</th>\n",
       "      <td>...</td>\n",
       "      <td>...</td>\n",
       "      <td>...</td>\n",
       "      <td>...</td>\n",
       "      <td>...</td>\n",
       "      <td>...</td>\n",
       "      <td>...</td>\n",
       "      <td>...</td>\n",
       "    </tr>\n",
       "    <tr>\n",
       "      <th>8631</th>\n",
       "      <td>2020-11-30 02:27:27</td>\n",
       "      <td>b\"RT @dailysportpickz: If the Packers win Tonight on #SNF against the Bears I'll give one person who RTs this tweet and Follows Me all of my\\xe2\\x80\\xa6\"</td>\n",
       "      <td>timdog123dfs</td>\n",
       "      <td>NaN</td>\n",
       "      <td>69</td>\n",
       "      <td>67</td>\n",
       "      <td>53</td>\n",
       "      <td>Twitter for iPhone</td>\n",
       "    </tr>\n",
       "    <tr>\n",
       "      <th>8632</th>\n",
       "      <td>2020-11-30 02:27:24</td>\n",
       "      <td>b\"RT @dailysportpickz: If the Packers win Tonight on #SNF against the Bears I'll give one person who RTs this tweet and Follows Me all of my\\xe2\\x80\\xa6\"</td>\n",
       "      <td>iEdwinRivera</td>\n",
       "      <td>Dallas, TX</td>\n",
       "      <td>424</td>\n",
       "      <td>1063</td>\n",
       "      <td>53</td>\n",
       "      <td>Twitter for iPhone</td>\n",
       "    </tr>\n",
       "    <tr>\n",
       "      <th>8633</th>\n",
       "      <td>2020-11-30 02:27:22</td>\n",
       "      <td>b\"RT @dailysportpickz: If the Packers win Tonight on #SNF against the Bears I'll give one person who RTs this tweet and Follows Me all of my\\xe2\\x80\\xa6\"</td>\n",
       "      <td>Nichola65876203</td>\n",
       "      <td>NaN</td>\n",
       "      <td>129</td>\n",
       "      <td>303</td>\n",
       "      <td>53</td>\n",
       "      <td>Twitter for iPhone</td>\n",
       "    </tr>\n",
       "    <tr>\n",
       "      <th>8634</th>\n",
       "      <td>2020-11-30 02:27:16</td>\n",
       "      <td>b\"RT @dailysportpickz: If the Packers win Tonight on #SNF against the Bears I'll give one person who RTs this tweet and Follows Me all of my\\xe2\\x80\\xa6\"</td>\n",
       "      <td>ptrckclrss3</td>\n",
       "      <td>United States</td>\n",
       "      <td>18</td>\n",
       "      <td>61</td>\n",
       "      <td>53</td>\n",
       "      <td>Twitter for iPhone</td>\n",
       "    </tr>\n",
       "    <tr>\n",
       "      <th>8635</th>\n",
       "      <td>2020-11-30 02:27:02</td>\n",
       "      <td>b\"If the Packers win Tonight on #SNF against the Bears I'll give one person who RTs this tweet and Follows Me all of\\xe2\\x80\\xa6 https://t.co/z7a3y7XGzW\"</td>\n",
       "      <td>dailysportpickz</td>\n",
       "      <td>Cash App: $dailysportpickz</td>\n",
       "      <td>1443</td>\n",
       "      <td>3474</td>\n",
       "      <td>53</td>\n",
       "      <td>Twitter Web App</td>\n",
       "    </tr>\n",
       "  </tbody>\n",
       "</table>\n",
       "<p>156 rows × 8 columns</p>\n",
       "</div>"
      ],
      "text/plain": [
       "                  created  \\\n",
       "717   2020-11-30 19:22:57   \n",
       "718   2020-11-30 19:22:56   \n",
       "719   2020-11-30 19:22:50   \n",
       "720   2020-11-30 19:22:44   \n",
       "831   2020-11-30 15:54:06   \n",
       "...                   ...   \n",
       "8631  2020-11-30 02:27:27   \n",
       "8632  2020-11-30 02:27:24   \n",
       "8633  2020-11-30 02:27:22   \n",
       "8634  2020-11-30 02:27:16   \n",
       "8635  2020-11-30 02:27:02   \n",
       "\n",
       "                                                                                                                                                           text  \\\n",
       "717   b\"RT @dailysportpickz: If the Packers win Tonight on #SNF against the Bears I'll give one person who RTs this tweet and Follows Me all of my\\xe2\\x80\\xa6\"   \n",
       "718   b\"RT @dailysportpickz: If the Packers win Tonight on #SNF against the Bears I'll give one person who RTs this tweet and Follows Me all of my\\xe2\\x80\\xa6\"   \n",
       "719   b\"RT @dailysportpickz: If the Packers win Tonight on #SNF against the Bears I'll give one person who RTs this tweet and Follows Me all of my\\xe2\\x80\\xa6\"   \n",
       "720   b\"RT @dailysportpickz: If the Packers win Tonight on #SNF against the Bears I'll give one person who RTs this tweet and Follows Me all of my\\xe2\\x80\\xa6\"   \n",
       "831   b\"RT @dailysportpickz: If the Packers win Tonight on #SNF against the Bears I'll give one person who RTs this tweet and Follows Me all of my\\xe2\\x80\\xa6\"   \n",
       "...                                                                                                                                                         ...   \n",
       "8631  b\"RT @dailysportpickz: If the Packers win Tonight on #SNF against the Bears I'll give one person who RTs this tweet and Follows Me all of my\\xe2\\x80\\xa6\"   \n",
       "8632  b\"RT @dailysportpickz: If the Packers win Tonight on #SNF against the Bears I'll give one person who RTs this tweet and Follows Me all of my\\xe2\\x80\\xa6\"   \n",
       "8633  b\"RT @dailysportpickz: If the Packers win Tonight on #SNF against the Bears I'll give one person who RTs this tweet and Follows Me all of my\\xe2\\x80\\xa6\"   \n",
       "8634  b\"RT @dailysportpickz: If the Packers win Tonight on #SNF against the Bears I'll give one person who RTs this tweet and Follows Me all of my\\xe2\\x80\\xa6\"   \n",
       "8635  b\"If the Packers win Tonight on #SNF against the Bears I'll give one person who RTs this tweet and Follows Me all of\\xe2\\x80\\xa6 https://t.co/z7a3y7XGzW\"   \n",
       "\n",
       "             username                    location  follower count  \\\n",
       "717   KnicksRollCall   New York, USA               52               \n",
       "718   G2thAdon         NaN                         858              \n",
       "719   UpstateApes      Upstate NY                  203              \n",
       "720   UpstateApeG      Upstate                     53               \n",
       "831   Beanshockey      NaN                         100              \n",
       "...           ...      ...                         ...              \n",
       "8631  timdog123dfs     NaN                         69               \n",
       "8632  iEdwinRivera     Dallas, TX                  424              \n",
       "8633  Nichola65876203  NaN                         129              \n",
       "8634  ptrckclrss3      United States               18               \n",
       "8635  dailysportpickz  Cash App: $dailysportpickz  1443             \n",
       "\n",
       "      friend count  retweet               source  \n",
       "717   104           53       Twitter for Android  \n",
       "718   824           53       Twitter for Android  \n",
       "719   694           53       Twitter for Android  \n",
       "720   122           53       Twitter for Android  \n",
       "831   184           53       Twitter Web App      \n",
       "...   ...           ..                   ...      \n",
       "8631  67            53       Twitter for iPhone   \n",
       "8632  1063          53       Twitter for iPhone   \n",
       "8633  303           53       Twitter for iPhone   \n",
       "8634  61            53       Twitter for iPhone   \n",
       "8635  3474          53       Twitter Web App      \n",
       "\n",
       "[156 rows x 8 columns]"
      ]
     },
     "execution_count": 32,
     "metadata": {},
     "output_type": "execute_result"
    }
   ],
   "source": [
    "dk_df[dk_df.retweet == 53]\n",
    "# tagged - @dailysportpickz, giveaway for a RT"
   ]
  },
  {
   "cell_type": "code",
   "execution_count": 33,
   "metadata": {
    "collapsed": true,
    "jupyter": {
     "outputs_hidden": true
    }
   },
   "outputs": [
    {
     "data": {
      "text/html": [
       "<div>\n",
       "<style scoped>\n",
       "    .dataframe tbody tr th:only-of-type {\n",
       "        vertical-align: middle;\n",
       "    }\n",
       "\n",
       "    .dataframe tbody tr th {\n",
       "        vertical-align: top;\n",
       "    }\n",
       "\n",
       "    .dataframe thead th {\n",
       "        text-align: right;\n",
       "    }\n",
       "</style>\n",
       "<table border=\"1\" class=\"dataframe\">\n",
       "  <thead>\n",
       "    <tr style=\"text-align: right;\">\n",
       "      <th></th>\n",
       "      <th>created</th>\n",
       "      <th>text</th>\n",
       "      <th>username</th>\n",
       "      <th>location</th>\n",
       "      <th>follower count</th>\n",
       "      <th>friend count</th>\n",
       "      <th>retweet</th>\n",
       "      <th>source</th>\n",
       "    </tr>\n",
       "  </thead>\n",
       "  <tbody>\n",
       "    <tr>\n",
       "      <th>6764</th>\n",
       "      <td>2020-11-24 00:50:04</td>\n",
       "      <td>b'RT @GirlNextDoorBet: after a 2-0 sweep on last nights Raiders-Chiefs game, and going 9-3 in NFL 2 weeks in a row\\n\\nretweet this to get tonig\\xe2\\x80\\xa6'</td>\n",
       "      <td>Frankiegee05</td>\n",
       "      <td>Los Angeles, CA</td>\n",
       "      <td>100</td>\n",
       "      <td>365</td>\n",
       "      <td>88</td>\n",
       "      <td>Twitter for Android</td>\n",
       "    </tr>\n",
       "    <tr>\n",
       "      <th>6796</th>\n",
       "      <td>2020-11-24 00:11:31</td>\n",
       "      <td>b'RT @GirlNextDoorBet: after a 2-0 sweep on last nights Raiders-Chiefs game, and going 9-3 in NFL 2 weeks in a row\\n\\nretweet this to get tonig\\xe2\\x80\\xa6'</td>\n",
       "      <td>CaposelloJohn</td>\n",
       "      <td>New Jersey</td>\n",
       "      <td>15</td>\n",
       "      <td>91</td>\n",
       "      <td>88</td>\n",
       "      <td>Twitter Web App</td>\n",
       "    </tr>\n",
       "    <tr>\n",
       "      <th>6855</th>\n",
       "      <td>2020-11-23 23:28:20</td>\n",
       "      <td>b'RT @GirlNextDoorBet: after a 2-0 sweep on last nights Raiders-Chiefs game, and going 9-3 in NFL 2 weeks in a row\\n\\nretweet this to get tonig\\xe2\\x80\\xa6'</td>\n",
       "      <td>ChanPan03</td>\n",
       "      <td>New England</td>\n",
       "      <td>783</td>\n",
       "      <td>124</td>\n",
       "      <td>88</td>\n",
       "      <td>Twitter for iPhone</td>\n",
       "    </tr>\n",
       "    <tr>\n",
       "      <th>6934</th>\n",
       "      <td>2020-11-23 22:36:52</td>\n",
       "      <td>b'RT @GirlNextDoorBet: after a 2-0 sweep on last nights Raiders-Chiefs game, and going 9-3 in NFL 2 weeks in a row\\n\\nretweet this to get tonig\\xe2\\x80\\xa6'</td>\n",
       "      <td>2Rich305</td>\n",
       "      <td>Hialeah Gables, FL</td>\n",
       "      <td>772</td>\n",
       "      <td>1126</td>\n",
       "      <td>88</td>\n",
       "      <td>Twitter for Android</td>\n",
       "    </tr>\n",
       "    <tr>\n",
       "      <th>7040</th>\n",
       "      <td>2020-11-23 20:41:36</td>\n",
       "      <td>b'RT @GirlNextDoorBet: after a 2-0 sweep on last nights Raiders-Chiefs game, and going 9-3 in NFL 2 weeks in a row\\n\\nretweet this to get tonig\\xe2\\x80\\xa6'</td>\n",
       "      <td>JasperChizmm</td>\n",
       "      <td>Da 6- T-DOT-</td>\n",
       "      <td>519</td>\n",
       "      <td>472</td>\n",
       "      <td>88</td>\n",
       "      <td>Twitter for iPhone</td>\n",
       "    </tr>\n",
       "    <tr>\n",
       "      <th>...</th>\n",
       "      <td>...</td>\n",
       "      <td>...</td>\n",
       "      <td>...</td>\n",
       "      <td>...</td>\n",
       "      <td>...</td>\n",
       "      <td>...</td>\n",
       "      <td>...</td>\n",
       "      <td>...</td>\n",
       "    </tr>\n",
       "    <tr>\n",
       "      <th>7324</th>\n",
       "      <td>2020-11-23 12:34:39</td>\n",
       "      <td>b'RT @GirlNextDoorBet: after a 2-0 sweep on last nights Raiders-Chiefs game, and going 9-3 in NFL 2 weeks in a row\\n\\nretweet this to get tonig\\xe2\\x80\\xa6'</td>\n",
       "      <td>YinzBetting</td>\n",
       "      <td>Pittsburgh, PA</td>\n",
       "      <td>119</td>\n",
       "      <td>218</td>\n",
       "      <td>88</td>\n",
       "      <td>Twitter for iPhone</td>\n",
       "    </tr>\n",
       "    <tr>\n",
       "      <th>7325</th>\n",
       "      <td>2020-11-23 12:33:52</td>\n",
       "      <td>b'RT @GirlNextDoorBet: after a 2-0 sweep on last nights Raiders-Chiefs game, and going 9-3 in NFL 2 weeks in a row\\n\\nretweet this to get tonig\\xe2\\x80\\xa6'</td>\n",
       "      <td>MayflowerFarm</td>\n",
       "      <td>NaN</td>\n",
       "      <td>16</td>\n",
       "      <td>18</td>\n",
       "      <td>88</td>\n",
       "      <td>Twitter for iPhone</td>\n",
       "    </tr>\n",
       "    <tr>\n",
       "      <th>7326</th>\n",
       "      <td>2020-11-23 12:32:21</td>\n",
       "      <td>b'RT @GirlNextDoorBet: after a 2-0 sweep on last nights Raiders-Chiefs game, and going 9-3 in NFL 2 weeks in a row\\n\\nretweet this to get tonig\\xe2\\x80\\xa6'</td>\n",
       "      <td>Robert183496214</td>\n",
       "      <td>TENNESSEE</td>\n",
       "      <td>1653</td>\n",
       "      <td>4168</td>\n",
       "      <td>88</td>\n",
       "      <td>Twitter Web App</td>\n",
       "    </tr>\n",
       "    <tr>\n",
       "      <th>7327</th>\n",
       "      <td>2020-11-23 12:31:57</td>\n",
       "      <td>b'RT @GirlNextDoorBet: after a 2-0 sweep on last nights Raiders-Chiefs game, and going 9-3 in NFL 2 weeks in a row\\n\\nretweet this to get tonig\\xe2\\x80\\xa6'</td>\n",
       "      <td>vinniec21</td>\n",
       "      <td>New jersey</td>\n",
       "      <td>12</td>\n",
       "      <td>46</td>\n",
       "      <td>88</td>\n",
       "      <td>Twitter for Android</td>\n",
       "    </tr>\n",
       "    <tr>\n",
       "      <th>7328</th>\n",
       "      <td>2020-11-23 12:31:27</td>\n",
       "      <td>b'after a 2-0 sweep on last nights Raiders-Chiefs game, and going 9-3 in NFL 2 weeks in a row\\n\\nretweet this to get to\\xe2\\x80\\xa6 https://t.co/Vpsaxj6x1f'</td>\n",
       "      <td>GirlNextDoorBet</td>\n",
       "      <td>east coast</td>\n",
       "      <td>1976</td>\n",
       "      <td>639</td>\n",
       "      <td>88</td>\n",
       "      <td>Twitter Web App</td>\n",
       "    </tr>\n",
       "  </tbody>\n",
       "</table>\n",
       "<p>88 rows × 8 columns</p>\n",
       "</div>"
      ],
      "text/plain": [
       "                  created  \\\n",
       "6764  2020-11-24 00:50:04   \n",
       "6796  2020-11-24 00:11:31   \n",
       "6855  2020-11-23 23:28:20   \n",
       "6934  2020-11-23 22:36:52   \n",
       "7040  2020-11-23 20:41:36   \n",
       "...                   ...   \n",
       "7324  2020-11-23 12:34:39   \n",
       "7325  2020-11-23 12:33:52   \n",
       "7326  2020-11-23 12:32:21   \n",
       "7327  2020-11-23 12:31:57   \n",
       "7328  2020-11-23 12:31:27   \n",
       "\n",
       "                                                                                                                                                              text  \\\n",
       "6764  b'RT @GirlNextDoorBet: after a 2-0 sweep on last nights Raiders-Chiefs game, and going 9-3 in NFL 2 weeks in a row\\n\\nretweet this to get tonig\\xe2\\x80\\xa6'   \n",
       "6796  b'RT @GirlNextDoorBet: after a 2-0 sweep on last nights Raiders-Chiefs game, and going 9-3 in NFL 2 weeks in a row\\n\\nretweet this to get tonig\\xe2\\x80\\xa6'   \n",
       "6855  b'RT @GirlNextDoorBet: after a 2-0 sweep on last nights Raiders-Chiefs game, and going 9-3 in NFL 2 weeks in a row\\n\\nretweet this to get tonig\\xe2\\x80\\xa6'   \n",
       "6934  b'RT @GirlNextDoorBet: after a 2-0 sweep on last nights Raiders-Chiefs game, and going 9-3 in NFL 2 weeks in a row\\n\\nretweet this to get tonig\\xe2\\x80\\xa6'   \n",
       "7040  b'RT @GirlNextDoorBet: after a 2-0 sweep on last nights Raiders-Chiefs game, and going 9-3 in NFL 2 weeks in a row\\n\\nretweet this to get tonig\\xe2\\x80\\xa6'   \n",
       "...                                                                                                                                                            ...   \n",
       "7324  b'RT @GirlNextDoorBet: after a 2-0 sweep on last nights Raiders-Chiefs game, and going 9-3 in NFL 2 weeks in a row\\n\\nretweet this to get tonig\\xe2\\x80\\xa6'   \n",
       "7325  b'RT @GirlNextDoorBet: after a 2-0 sweep on last nights Raiders-Chiefs game, and going 9-3 in NFL 2 weeks in a row\\n\\nretweet this to get tonig\\xe2\\x80\\xa6'   \n",
       "7326  b'RT @GirlNextDoorBet: after a 2-0 sweep on last nights Raiders-Chiefs game, and going 9-3 in NFL 2 weeks in a row\\n\\nretweet this to get tonig\\xe2\\x80\\xa6'   \n",
       "7327  b'RT @GirlNextDoorBet: after a 2-0 sweep on last nights Raiders-Chiefs game, and going 9-3 in NFL 2 weeks in a row\\n\\nretweet this to get tonig\\xe2\\x80\\xa6'   \n",
       "7328  b'after a 2-0 sweep on last nights Raiders-Chiefs game, and going 9-3 in NFL 2 weeks in a row\\n\\nretweet this to get to\\xe2\\x80\\xa6 https://t.co/Vpsaxj6x1f'   \n",
       "\n",
       "             username            location  follower count  friend count  \\\n",
       "6764  Frankiegee05     Los Angeles, CA     100             365            \n",
       "6796  CaposelloJohn    New Jersey          15              91             \n",
       "6855  ChanPan03        New England         783             124            \n",
       "6934  2Rich305         Hialeah Gables, FL  772             1126           \n",
       "7040  JasperChizmm     Da 6- T-DOT-        519             472            \n",
       "...            ...               ...       ...             ...            \n",
       "7324  YinzBetting      Pittsburgh, PA      119             218            \n",
       "7325  MayflowerFarm    NaN                 16              18             \n",
       "7326  Robert183496214  TENNESSEE           1653            4168           \n",
       "7327  vinniec21        New jersey          12              46             \n",
       "7328  GirlNextDoorBet  east coast          1976            639            \n",
       "\n",
       "      retweet               source  \n",
       "6764  88       Twitter for Android  \n",
       "6796  88       Twitter Web App      \n",
       "6855  88       Twitter for iPhone   \n",
       "6934  88       Twitter for Android  \n",
       "7040  88       Twitter for iPhone   \n",
       "...   ..                      ...   \n",
       "7324  88       Twitter for iPhone   \n",
       "7325  88       Twitter for iPhone   \n",
       "7326  88       Twitter Web App      \n",
       "7327  88       Twitter for Android  \n",
       "7328  88       Twitter Web App      \n",
       "\n",
       "[88 rows x 8 columns]"
      ]
     },
     "execution_count": 33,
     "metadata": {},
     "output_type": "execute_result"
    }
   ],
   "source": [
    "dk_df[dk_df.retweet == 88]\n",
    "# tagged - @GirlNextDoorBet (Raiders-Chiefs game goingin 9-3)"
   ]
  },
  {
   "cell_type": "code",
   "execution_count": 54,
   "metadata": {},
   "outputs": [],
   "source": [
    "dk_df = dk_df[dk_df.text != \"b'RT @MONEYGANGJAMES1: LISTEN UP FRIENDS &amp; FAMILY:\\\\n\\\\nINVEST!\\\\n\\\\nTHE 2020 PANINI PRIZM FOOTBALL DRAFT PICKS HOBBY BOX IS ALMOST SOLD OUT! BUY NOW\\\\xe2\\\\x80\\\\xa6'\"]\n",
    "dk_df = dk_df[dk_df.text != \"b'RT @VegasSyndicate: $500 GUARANTEE TODAY...YOU CAN NOT BEAT IT...\\\\n\\\\n+ YOU WILL WIN \\\\xf0\\\\x9f\\\\x92\\\\xb0\\\\xf0\\\\x9f\\\\x92\\\\xb2\\\\xf0\\\\x9f\\\\x92\\\\xb4\\\\xf0\\\\x9f\\\\x92\\\\xb6\\\\n\\\\nWE WENT 11-3 IN #CBB / #1 in the\\\\xf0\\\\x9f\\\\x8c\\\\x8e\\\\n\\\\nWE WILL PRINT MO\\\\xe2\\\\x80\\\\xa6'\"]        "
   ]
  },
  {
   "cell_type": "code",
   "execution_count": 67,
   "metadata": {},
   "outputs": [
    {
     "data": {
      "text/plain": [
       "0     3188\n",
       "1     1454\n",
       "2     562 \n",
       "3     279 \n",
       "4     168 \n",
       "53    156 \n",
       "36    144 \n",
       "8     122 \n",
       "6     119 \n",
       "40    108 \n",
       "Name: retweet, dtype: int64"
      ]
     },
     "execution_count": 67,
     "metadata": {},
     "output_type": "execute_result"
    }
   ],
   "source": [
    "dk_df.retweet.value_counts()[:10] #it worked! We got ride of moneygangjames and VegasSyndicate promotions"
   ]
  },
  {
   "cell_type": "markdown",
   "metadata": {},
   "source": [
    "## FANDUELS EDA - Same moneygangjames and VegasSyndicate promotion"
   ]
  },
  {
   "cell_type": "code",
   "execution_count": 69,
   "metadata": {},
   "outputs": [
    {
     "data": {
      "text/plain": [
       "(5748, 8)"
      ]
     },
     "execution_count": 69,
     "metadata": {},
     "output_type": "execute_result"
    }
   ],
   "source": [
    "fd_df.shape"
   ]
  },
  {
   "cell_type": "code",
   "execution_count": 70,
   "metadata": {},
   "outputs": [
    {
     "name": "stdout",
     "output_type": "stream",
     "text": [
      "<class 'pandas.core.frame.DataFrame'>\n",
      "RangeIndex: 5748 entries, 0 to 5747\n",
      "Data columns (total 8 columns):\n",
      " #   Column          Non-Null Count  Dtype \n",
      "---  ------          --------------  ----- \n",
      " 0   created         5748 non-null   object\n",
      " 1   text            5748 non-null   object\n",
      " 2   username        5748 non-null   object\n",
      " 3   location        4354 non-null   object\n",
      " 4   follower count  5748 non-null   int64 \n",
      " 5   friend count    5748 non-null   int64 \n",
      " 6   retweet         5748 non-null   int64 \n",
      " 7   source          5742 non-null   object\n",
      "dtypes: int64(3), object(5)\n",
      "memory usage: 359.4+ KB\n"
     ]
    }
   ],
   "source": [
    "fd_df.info()"
   ]
  },
  {
   "cell_type": "code",
   "execution_count": 85,
   "metadata": {},
   "outputs": [
    {
     "data": {
      "text/plain": [
       "Chicago, IL                573\n",
       "Las Vegas, NV              420\n",
       "United States              257\n",
       "New Jersey, USA            138\n",
       "Massachusetts, USA         131\n",
       "England, United Kingdom    130\n",
       "Henderson, Nevada          99 \n",
       "Brigantine, NJ             91 \n",
       "Winners Lane               66 \n",
       "Global                     55 \n",
       "Chicago, Illinois          55 \n",
       "GLOBAL                     54 \n",
       "Key West, FL               42 \n",
       "New York, NY               41 \n",
       "Tennessee, USA             29 \n",
       "Name: location, dtype: int64"
      ]
     },
     "execution_count": 85,
     "metadata": {},
     "output_type": "execute_result"
    }
   ],
   "source": [
    "fd_df['location'].value_counts().head(15)"
   ]
  },
  {
   "cell_type": "code",
   "execution_count": 86,
   "metadata": {},
   "outputs": [
    {
     "data": {
      "image/png": "[encoded data removed]",
      "text/plain": [
       "<Figure size 432x288 with 1 Axes>"
      ]
     },
     "metadata": {
      "image/png": {
       "height": 248,
       "width": 363
      }
     },
     "output_type": "display_data"
    }
   ],
   "source": [
    "# Pie chart, where the slices will be ordered and plotted counter-clockwise:\n",
    "labels = 'Vegas', 'Chicago, IL', 'NJ', 'Massachusetts', 'UK', 'USA'\n",
    "sizes = [520, 628, 229, 131, 130, 257]\n",
    "# explode = (0, 0.1, 0, 0)  # only \"explode\" the 2nd slice (i.e. 'Hogs')\n",
    "\n",
    "fig1, ax1 = plt.subplots()\n",
    "ax1.pie(sizes, explode=None, labels=labels, autopct='%1.1f%%',\n",
    "        shadow=True, startangle=90)\n",
    "ax1.axis('equal')  # Equal aspect ratio ensures that pie is drawn as a circle.\n",
    "plt.title('Top 6 Twitter User Locations - Fanduels')\n",
    "plt.show()"
   ]
  },
  {
   "cell_type": "code",
   "execution_count": 76,
   "metadata": {},
   "outputs": [
    {
     "data": {
      "text/plain": [
       "0      1712\n",
       "1      994 \n",
       "632    611 \n",
       "2      316 \n",
       "251    246 \n",
       "3      198 \n",
       "8      125 \n",
       "5      116 \n",
       "4      99  \n",
       "12     99  \n",
       "Name: retweet, dtype: int64"
      ]
     },
     "execution_count": 76,
     "metadata": {},
     "output_type": "execute_result"
    }
   ],
   "source": [
    "fd_df.retweet.value_counts()[:10]"
   ]
  },
  {
   "cell_type": "code",
   "execution_count": 80,
   "metadata": {},
   "outputs": [
    {
     "data": {
      "text/plain": [
       "0     1712\n",
       "1     994 \n",
       "2     316 \n",
       "3     198 \n",
       "8     125 \n",
       "5     116 \n",
       "4     99  \n",
       "12    99  \n",
       "9     82  \n",
       "27    81  \n",
       "Name: retweet, dtype: int64"
      ]
     },
     "execution_count": 80,
     "metadata": {},
     "output_type": "execute_result"
    }
   ],
   "source": [
    "fd_df = fd_df[fd_df.text != \"b'RT @MONEYGANGJAMES1: LISTEN UP FRIENDS &amp; FAMILY:\\\\n\\\\nINVEST!\\\\n\\\\nTHE 2020 PANINI PRIZM FOOTBALL DRAFT PICKS HOBBY BOX IS ALMOST SOLD OUT! BUY NOW\\\\xe2\\\\x80\\\\xa6'\"]\n",
    "fd_df = fd_df[fd_df.text != \"b'RT @VegasSyndicate: $500 GUARANTEE TODAY...YOU CAN NOT BEAT IT...\\\\n\\\\n+ YOU WILL WIN \\\\xf0\\\\x9f\\\\x92\\\\xb0\\\\xf0\\\\x9f\\\\x92\\\\xb2\\\\xf0\\\\x9f\\\\x92\\\\xb4\\\\xf0\\\\x9f\\\\x92\\\\xb6\\\\n\\\\nWE WENT 11-3 IN #CBB / #1 in the\\\\xf0\\\\x9f\\\\x8c\\\\x8e\\\\n\\\\nWE WILL PRINT MO\\\\xe2\\\\x80\\\\xa6'\"]        \n",
    "fd_df.retweet.value_counts()[:10] #it worked! We got ride of moneygangjames and VegasSyndicate promotions"
   ]
  },
  {
   "cell_type": "markdown",
   "metadata": {},
   "source": [
    "### Lot of common users between draftkings and fanduels so create new df with exclusive users"
   ]
  },
  {
   "cell_type": "code",
   "execution_count": 57,
   "metadata": {},
   "outputs": [
    {
     "data": {
      "text/plain": [
       "2076"
      ]
     },
     "execution_count": 57,
     "metadata": {},
     "output_type": "execute_result"
    }
   ],
   "source": [
    "len(dk_df.username.unique()) # 2789\n",
    "len(fd_df.username.unique()) # 2076"
   ]
  },
  {
   "cell_type": "code",
   "execution_count": 58,
   "metadata": {},
   "outputs": [
    {
     "data": {
      "text/plain": [
       "871"
      ]
     },
     "execution_count": 58,
     "metadata": {},
     "output_type": "execute_result"
    }
   ],
   "source": [
    "common_users = pd.merge(dk_df.username, fd_df.username, how ='inner', on =['username']).username.unique()\n",
    "len(common_users) #1724\n",
    "#1724 twitter users in common out of 2789 unique users in draftkings, 2076 twitter users in fanduels"
   ]
  },
  {
   "cell_type": "code",
   "execution_count": 59,
   "metadata": {},
   "outputs": [
    {
     "data": {
      "text/plain": [
       "3147"
      ]
     },
     "execution_count": 59,
     "metadata": {},
     "output_type": "execute_result"
    }
   ],
   "source": [
    "all_users = pd.merge(dk_df, fd_df, how = 'outer', on =['username']).username.unique()\n",
    "len(all_users) #3141"
   ]
  },
  {
   "cell_type": "code",
   "execution_count": 60,
   "metadata": {},
   "outputs": [],
   "source": [
    "all_users = list(all_users)\n",
    "common_users = list(common_users)\n",
    "\n",
    "exclusive_user = []\n",
    "for user in all_users:\n",
    "    if user not in common_users:\n",
    "        exclusive_user.append(user)\n",
    "\n",
    "exclusive_users = pd.Series(exclusive_user)\n",
    "        "
   ]
  },
  {
   "cell_type": "code",
   "execution_count": 61,
   "metadata": {},
   "outputs": [
    {
     "data": {
      "text/plain": [
       "2276"
      ]
     },
     "execution_count": 61,
     "metadata": {},
     "output_type": "execute_result"
    }
   ],
   "source": [
    "len(exclusive_users)"
   ]
  },
  {
   "cell_type": "code",
   "execution_count": 62,
   "metadata": {},
   "outputs": [
    {
     "data": {
      "text/plain": [
       "(5257, 8)"
      ]
     },
     "execution_count": 62,
     "metadata": {},
     "output_type": "execute_result"
    }
   ],
   "source": [
    "dk_df_exclusive = dk_df[~dk_df.username.isin(exclusive_users)]\n",
    "dk_df_exclusive.shape"
   ]
  },
  {
   "cell_type": "code",
   "execution_count": 63,
   "metadata": {},
   "outputs": [
    {
     "data": {
      "text/plain": [
       "(4321, 8)"
      ]
     },
     "execution_count": 63,
     "metadata": {},
     "output_type": "execute_result"
    }
   ],
   "source": [
    "fd_df_exclusive = fd_df[~fd_df.username.isin(exclusive_users)]\n",
    "fd_df_exclusive.shape"
   ]
  },
  {
   "cell_type": "markdown",
   "metadata": {},
   "source": [
    "## PICKLE for future use"
   ]
  },
  {
   "cell_type": "code",
   "execution_count": 64,
   "metadata": {},
   "outputs": [],
   "source": [
    "import pickle"
   ]
  },
  {
   "cell_type": "code",
   "execution_count": 65,
   "metadata": {},
   "outputs": [],
   "source": [
    "dk_df_exclusive.to_pickle(\"data/dk_exclusive.pkl\")\n",
    "fd_df_exclusive.to_pickle(\"data/fd_exclusive.pkl\")"
   ]
  },
  {
   "cell_type": "code",
   "execution_count": null,
   "metadata": {},
   "outputs": [],
   "source": []
  }
 ],
 "metadata": {
  "kernelspec": {
   "display_name": "Python 3",
   "language": "python",
   "name": "python3"
  },
  "language_info": {
   "codemirror_mode": {
    "name": "ipython",
    "version": 3
   },
   "file_extension": ".py",
   "mimetype": "text/x-python",
   "name": "python",
   "nbconvert_exporter": "python",
   "pygments_lexer": "ipython3",
   "version": "3.7.7"
  }
 },
 "nbformat": 4,
 "nbformat_minor": 4
}
