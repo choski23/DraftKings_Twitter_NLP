{
 "cells": [
  {
   "cell_type": "code",
   "execution_count": 16,
   "metadata": {},
   "outputs": [],
   "source": [
    "import pandas as pd\n",
    "\n",
    "dk = pd.read_pickle('data/dk_clean.pkl')\n",
    "fd = pd.read_pickle('data/fd_clean.pkl')"
   ]
  },
  {
   "cell_type": "markdown",
   "metadata": {},
   "source": [
    "## Sentiment Analysis using TextBlob"
   ]
  },
  {
   "cell_type": "code",
   "execution_count": 146,
   "metadata": {},
   "outputs": [],
   "source": [
    "from textblob import TextBlob\n",
    "import nltk\n",
    "# nltk.download('brown')"
   ]
  },
  {
   "cell_type": "code",
   "execution_count": 147,
   "metadata": {},
   "outputs": [],
   "source": [
    "dk_text = dk.text\n",
    "fd_text = fd.text"
   ]
  },
  {
   "cell_type": "code",
   "execution_count": 148,
   "metadata": {},
   "outputs": [],
   "source": [
    "# dk_corpus = \"\".join(str(tweet) for tweet in dk.text)\n",
    "# fd_corpus = \"\".join(str(tweet) for tweet in fd.text)"
   ]
  },
  {
   "cell_type": "code",
   "execution_count": 149,
   "metadata": {},
   "outputs": [],
   "source": [
    "pol = lambda x: TextBlob(x).sentiment.polarity\n",
    "sub = lambda x: TextBlob(x).sentiment.subjectivity"
   ]
  },
  {
   "cell_type": "code",
   "execution_count": 150,
   "metadata": {},
   "outputs": [
    {
     "data": {
      "text/html": [
       "<div>\n",
       "<style scoped>\n",
       "    .dataframe tbody tr th:only-of-type {\n",
       "        vertical-align: middle;\n",
       "    }\n",
       "\n",
       "    .dataframe tbody tr th {\n",
       "        vertical-align: top;\n",
       "    }\n",
       "\n",
       "    .dataframe thead th {\n",
       "        text-align: right;\n",
       "    }\n",
       "</style>\n",
       "<table border=\"1\" class=\"dataframe\">\n",
       "  <thead>\n",
       "    <tr style=\"text-align: right;\">\n",
       "      <th></th>\n",
       "      <th>text</th>\n",
       "      <th>polarity</th>\n",
       "      <th>subjectivity</th>\n",
       "    </tr>\n",
       "  </thead>\n",
       "  <tbody>\n",
       "    <tr>\n",
       "      <th>0</th>\n",
       "      <td>service college basketball nit us verified members already ver co</td>\n",
       "      <td>0.000000</td>\n",
       "      <td>0.0</td>\n",
       "    </tr>\n",
       "    <tr>\n",
       "      <th>1</th>\n",
       "      <td>nfl dfs seahawks eagles nwe hit cash na perfect week gt nfl dfs record ndm informa co</td>\n",
       "      <td>1.000000</td>\n",
       "      <td>1.0</td>\n",
       "    </tr>\n",
       "    <tr>\n",
       "      <th>2</th>\n",
       "      <td>awesemogolf live nthe awesemogolf pga dfs strategy show mayakobaclassic jazzrazdfs amp fantasygolfman n draftkings fandue</td>\n",
       "      <td>0.136364</td>\n",
       "      <td>0.5</td>\n",
       "    </tr>\n",
       "    <tr>\n",
       "      <th>4</th>\n",
       "      <td>boooom nverified winner day n xbd xef xbd xef salzburg ov xbd xef xbd xef co jqyhhokgcc</td>\n",
       "      <td>0.000000</td>\n",
       "      <td>0.0</td>\n",
       "    </tr>\n",
       "    <tr>\n",
       "      <th>5</th>\n",
       "      <td>week waivers faab auction bids cut list defense streamers week reactions kicker ranking co</td>\n",
       "      <td>0.000000</td>\n",
       "      <td>0.0</td>\n",
       "    </tr>\n",
       "    <tr>\n",
       "      <th>...</th>\n",
       "      <td>...</td>\n",
       "      <td>...</td>\n",
       "      <td>...</td>\n",
       "    </tr>\n",
       "    <tr>\n",
       "      <th>8926</th>\n",
       "      <td>qb toss fantasy points afternoon npatrick mahomes chiefskingdom ntom brad co likwkazftp</td>\n",
       "      <td>0.000000</td>\n",
       "      <td>0.0</td>\n",
       "    </tr>\n",
       "    <tr>\n",
       "      <th>8927</th>\n",
       "      <td>dailysportpickz nfl pm dfs giveaway nget premium line dm us nwe giving away nfl lineup</td>\n",
       "      <td>0.000000</td>\n",
       "      <td>0.0</td>\n",
       "    </tr>\n",
       "    <tr>\n",
       "      <th>8928</th>\n",
       "      <td>dailysportpickz nfl pm dfs giveaway nget premium line dm us nwe giving away nfl lineup</td>\n",
       "      <td>0.000000</td>\n",
       "      <td>0.0</td>\n",
       "    </tr>\n",
       "    <tr>\n",
       "      <th>8929</th>\n",
       "      <td>dailysportpickz nfl pm dfs giveaway nget premium line dm us nwe giving away nfl lineup</td>\n",
       "      <td>0.000000</td>\n",
       "      <td>0.0</td>\n",
       "    </tr>\n",
       "    <tr>\n",
       "      <th>8930</th>\n",
       "      <td>dailysportpickz nfl pm dfs giveaway nget premium line dm us nwe giving away nfl lineup</td>\n",
       "      <td>0.000000</td>\n",
       "      <td>0.0</td>\n",
       "    </tr>\n",
       "  </tbody>\n",
       "</table>\n",
       "<p>5257 rows × 3 columns</p>\n",
       "</div>"
      ],
      "text/plain": [
       "                                                                                                                            text  \\\n",
       "0      service college basketball nit us verified members already ver co                                                           \n",
       "1     nfl dfs seahawks eagles nwe hit cash na perfect week gt nfl dfs record ndm informa co                                        \n",
       "2     awesemogolf live nthe awesemogolf pga dfs strategy show mayakobaclassic jazzrazdfs amp fantasygolfman n draftkings fandue    \n",
       "4     boooom nverified winner day n xbd xef xbd xef salzburg ov xbd xef xbd xef co jqyhhokgcc                                      \n",
       "5      week waivers faab auction bids cut list defense streamers week reactions kicker ranking co                                  \n",
       "...                                                                                            ...                                 \n",
       "8926  qb toss fantasy points afternoon npatrick mahomes chiefskingdom ntom brad co likwkazftp                                      \n",
       "8927  dailysportpickz nfl pm dfs giveaway nget premium line dm us nwe giving away nfl lineup                                       \n",
       "8928  dailysportpickz nfl pm dfs giveaway nget premium line dm us nwe giving away nfl lineup                                       \n",
       "8929  dailysportpickz nfl pm dfs giveaway nget premium line dm us nwe giving away nfl lineup                                       \n",
       "8930  dailysportpickz nfl pm dfs giveaway nget premium line dm us nwe giving away nfl lineup                                       \n",
       "\n",
       "      polarity  \\\n",
       "0     0.000000   \n",
       "1     1.000000   \n",
       "2     0.136364   \n",
       "4     0.000000   \n",
       "5     0.000000   \n",
       "...        ...   \n",
       "8926  0.000000   \n",
       "8927  0.000000   \n",
       "8928  0.000000   \n",
       "8929  0.000000   \n",
       "8930  0.000000   \n",
       "\n",
       "      subjectivity  \n",
       "0     0.0           \n",
       "1     1.0           \n",
       "2     0.5           \n",
       "4     0.0           \n",
       "5     0.0           \n",
       "...   ...           \n",
       "8926  0.0           \n",
       "8927  0.0           \n",
       "8928  0.0           \n",
       "8929  0.0           \n",
       "8930  0.0           \n",
       "\n",
       "[5257 rows x 3 columns]"
      ]
     },
     "execution_count": 150,
     "metadata": {},
     "output_type": "execute_result"
    }
   ],
   "source": [
    "dk['polarity'] = dk_text.apply(pol)\n",
    "dk['subjectivity'] = dk_text.apply(sub)\n",
    "dk"
   ]
  },
  {
   "cell_type": "code",
   "execution_count": 151,
   "metadata": {},
   "outputs": [
    {
     "data": {
      "text/html": [
       "<div>\n",
       "<style scoped>\n",
       "    .dataframe tbody tr th:only-of-type {\n",
       "        vertical-align: middle;\n",
       "    }\n",
       "\n",
       "    .dataframe tbody tr th {\n",
       "        vertical-align: top;\n",
       "    }\n",
       "\n",
       "    .dataframe thead th {\n",
       "        text-align: right;\n",
       "    }\n",
       "</style>\n",
       "<table border=\"1\" class=\"dataframe\">\n",
       "  <thead>\n",
       "    <tr style=\"text-align: right;\">\n",
       "      <th></th>\n",
       "      <th>text</th>\n",
       "      <th>polarity</th>\n",
       "      <th>subjectivity</th>\n",
       "    </tr>\n",
       "  </thead>\n",
       "  <tbody>\n",
       "    <tr>\n",
       "      <th>0</th>\n",
       "      <td>nfl dfs seahawks eagles nwe hit cash na perfect week gt nfl dfs record ndm informa co</td>\n",
       "      <td>1.000000</td>\n",
       "      <td>1.000000</td>\n",
       "    </tr>\n",
       "    <tr>\n",
       "      <th>1</th>\n",
       "      <td>awesemogolf live nthe awesemogolf pga dfs strategy show mayakobaclassic jazzrazdfs amp fantasygolfman n draftkings fandue</td>\n",
       "      <td>0.136364</td>\n",
       "      <td>0.500000</td>\n",
       "    </tr>\n",
       "    <tr>\n",
       "      <th>2</th>\n",
       "      <td>week waivers faab auction bids cut list defense streamers week reactions kicker ranking co</td>\n",
       "      <td>0.000000</td>\n",
       "      <td>0.000000</td>\n",
       "    </tr>\n",
       "    <tr>\n",
       "      <th>3</th>\n",
       "      <td>co north carolina vs stanford guaranteedpick servicesbam marchmadness co</td>\n",
       "      <td>0.000000</td>\n",
       "      <td>0.000000</td>\n",
       "    </tr>\n",
       "    <tr>\n",
       "      <th>4</th>\n",
       "      <td>live nthe awesemogolf pga dfs strategy show mayakobaclassic jazzrazdfs amp fantasygolfman n draftkings fandue</td>\n",
       "      <td>0.136364</td>\n",
       "      <td>0.500000</td>\n",
       "    </tr>\n",
       "    <tr>\n",
       "      <th>...</th>\n",
       "      <td>...</td>\n",
       "      <td>...</td>\n",
       "      <td>...</td>\n",
       "    </tr>\n",
       "    <tr>\n",
       "      <th>5742</th>\n",
       "      <td>dfs army vip sunday night nfl showdown breakdown chiefs raiders turds co</td>\n",
       "      <td>0.000000</td>\n",
       "      <td>0.000000</td>\n",
       "    </tr>\n",
       "    <tr>\n",
       "      <th>5743</th>\n",
       "      <td>jerseykidpicks surprised kid connects early team superparlay fanduel vegas co</td>\n",
       "      <td>0.100000</td>\n",
       "      <td>0.600000</td>\n",
       "    </tr>\n",
       "    <tr>\n",
       "      <th>5744</th>\n",
       "      <td>dailysportpickz nfl dfs chiefs raiders giveaway none person rts win line free nmust following enter</td>\n",
       "      <td>0.400000</td>\n",
       "      <td>0.433333</td>\n",
       "    </tr>\n",
       "    <tr>\n",
       "      <th>5745</th>\n",
       "      <td>nfl mnf seavsphi seahawks eagles flyeaglesfly taking eagles pointsbetusa draftkings co</td>\n",
       "      <td>0.000000</td>\n",
       "      <td>0.000000</td>\n",
       "    </tr>\n",
       "    <tr>\n",
       "      <th>5747</th>\n",
       "      <td>jerseykidpicks fav fdsportsbook tennessee great props jerseykidpicks co ejydwkzgai</td>\n",
       "      <td>0.800000</td>\n",
       "      <td>0.750000</td>\n",
       "    </tr>\n",
       "  </tbody>\n",
       "</table>\n",
       "<p>4321 rows × 3 columns</p>\n",
       "</div>"
      ],
      "text/plain": [
       "                                                                                                                            text  \\\n",
       "0     nfl dfs seahawks eagles nwe hit cash na perfect week gt nfl dfs record ndm informa co                                        \n",
       "1     awesemogolf live nthe awesemogolf pga dfs strategy show mayakobaclassic jazzrazdfs amp fantasygolfman n draftkings fandue    \n",
       "2      week waivers faab auction bids cut list defense streamers week reactions kicker ranking co                                  \n",
       "3      co north carolina vs stanford guaranteedpick servicesbam marchmadness co                                                    \n",
       "4      live nthe awesemogolf pga dfs strategy show mayakobaclassic jazzrazdfs amp fantasygolfman n draftkings fandue               \n",
       "...                                                                                                               ...              \n",
       "5742  dfs army vip sunday night nfl showdown breakdown chiefs raiders turds co                                                     \n",
       "5743  jerseykidpicks surprised kid connects early team superparlay fanduel vegas co                                                \n",
       "5744  dailysportpickz nfl dfs chiefs raiders giveaway none person rts win line free nmust following enter                          \n",
       "5745  nfl mnf seavsphi seahawks eagles flyeaglesfly taking eagles pointsbetusa draftkings co                                       \n",
       "5747  jerseykidpicks fav fdsportsbook tennessee great props jerseykidpicks co ejydwkzgai                                           \n",
       "\n",
       "      polarity  \\\n",
       "0     1.000000   \n",
       "1     0.136364   \n",
       "2     0.000000   \n",
       "3     0.000000   \n",
       "4     0.136364   \n",
       "...        ...   \n",
       "5742  0.000000   \n",
       "5743  0.100000   \n",
       "5744  0.400000   \n",
       "5745  0.000000   \n",
       "5747  0.800000   \n",
       "\n",
       "      subjectivity  \n",
       "0     1.000000      \n",
       "1     0.500000      \n",
       "2     0.000000      \n",
       "3     0.000000      \n",
       "4     0.500000      \n",
       "...        ...      \n",
       "5742  0.000000      \n",
       "5743  0.600000      \n",
       "5744  0.433333      \n",
       "5745  0.000000      \n",
       "5747  0.750000      \n",
       "\n",
       "[4321 rows x 3 columns]"
      ]
     },
     "execution_count": 151,
     "metadata": {},
     "output_type": "execute_result"
    }
   ],
   "source": [
    "fd['polarity'] = fd_text.apply(pol)\n",
    "fd['subjectivity'] = fd_text.apply(sub)\n",
    "fd"
   ]
  },
  {
   "cell_type": "code",
   "execution_count": 152,
   "metadata": {},
   "outputs": [
    {
     "name": "stderr",
     "output_type": "stream",
     "text": [
      "/Users/LMC/opt/anaconda3/lib/python3.7/site-packages/ipykernel_launcher.py:2: FutureWarning: Passing a negative integer is deprecated in version 1.0 and will not be supported in future version. Instead, use None to not limit the column width.\n",
      "  \n"
     ]
    },
    {
     "data": {
      "text/html": [
       "<div>\n",
       "<style scoped>\n",
       "    .dataframe tbody tr th:only-of-type {\n",
       "        vertical-align: middle;\n",
       "    }\n",
       "\n",
       "    .dataframe tbody tr th {\n",
       "        vertical-align: top;\n",
       "    }\n",
       "\n",
       "    .dataframe thead th {\n",
       "        text-align: right;\n",
       "    }\n",
       "</style>\n",
       "<table border=\"1\" class=\"dataframe\">\n",
       "  <thead>\n",
       "    <tr style=\"text-align: right;\">\n",
       "      <th></th>\n",
       "      <th>text</th>\n",
       "      <th>polarity</th>\n",
       "      <th>subjectivity</th>\n",
       "    </tr>\n",
       "  </thead>\n",
       "  <tbody>\n",
       "    <tr>\n",
       "      <th>31</th>\n",
       "      <td>small profit still cash nonto next one fanduel draftkings dfs co</td>\n",
       "      <td>-0.125000</td>\n",
       "      <td>0.200000</td>\n",
       "    </tr>\n",
       "    <tr>\n",
       "      <th>37</th>\n",
       "      <td>since made steelers ravens draftkings showdown lineup game probably get moved changed som co</td>\n",
       "      <td>-0.400000</td>\n",
       "      <td>0.400000</td>\n",
       "    </tr>\n",
       "    <tr>\n",
       "      <th>39</th>\n",
       "      <td>fantasypts dfs recap n scottbarrettdfb grahambarfield nand jmtowin oneweekseason reflect past weekend dfs action fa</td>\n",
       "      <td>-0.075000</td>\n",
       "      <td>0.175000</td>\n",
       "    </tr>\n",
       "    <tr>\n",
       "      <th>54</th>\n",
       "      <td>vegassyndicate booom kent state nwe points half time vip bet lets get winner n gambl</td>\n",
       "      <td>-0.166667</td>\n",
       "      <td>0.166667</td>\n",
       "    </tr>\n",
       "    <tr>\n",
       "      <th>58</th>\n",
       "      <td>happened every sports bettor send us bad beats parlay badbeats knockout draftkings fanduel co qelyttqecg</td>\n",
       "      <td>-0.700000</td>\n",
       "      <td>0.666667</td>\n",
       "    </tr>\n",
       "    <tr>\n",
       "      <th>...</th>\n",
       "      <td>...</td>\n",
       "      <td>...</td>\n",
       "      <td>...</td>\n",
       "    </tr>\n",
       "    <tr>\n",
       "      <th>8795</th>\n",
       "      <td>one thing nfl common dislike john elway thedrive thefumble draftkings fantasyfootball dfs</td>\n",
       "      <td>-0.300000</td>\n",
       "      <td>0.500000</td>\n",
       "    </tr>\n",
       "    <tr>\n",
       "      <th>8818</th>\n",
       "      <td>seanpayton hate let man eat fantasyfootball nfl dfs draftkings</td>\n",
       "      <td>-0.800000</td>\n",
       "      <td>0.900000</td>\n",
       "    </tr>\n",
       "    <tr>\n",
       "      <th>8836</th>\n",
       "      <td>jerseykidpicks freepicks nthis opinion go overboard n co n sportsbetting sportspicks wager</td>\n",
       "      <td>-0.250000</td>\n",
       "      <td>0.150000</td>\n",
       "    </tr>\n",
       "    <tr>\n",
       "      <th>8850</th>\n",
       "      <td>killed dfs draftkings dk fantasyfootball nfl giants co</td>\n",
       "      <td>-0.200000</td>\n",
       "      <td>0.000000</td>\n",
       "    </tr>\n",
       "    <tr>\n",
       "      <th>8923</th>\n",
       "      <td>jerseykidpicks freepicks nthis opinion go overboard n co n sportsbetting sportspicks wager</td>\n",
       "      <td>-0.250000</td>\n",
       "      <td>0.150000</td>\n",
       "    </tr>\n",
       "  </tbody>\n",
       "</table>\n",
       "<p>453 rows × 3 columns</p>\n",
       "</div>"
      ],
      "text/plain": [
       "                                                                                                                      text  \\\n",
       "31     small profit still cash nonto next one fanduel draftkings dfs co                                                      \n",
       "37    since made steelers ravens draftkings showdown lineup game probably get moved changed som co                           \n",
       "39    fantasypts dfs recap n scottbarrettdfb grahambarfield nand jmtowin oneweekseason reflect past weekend dfs action fa    \n",
       "54    vegassyndicate booom kent state nwe points half time vip bet lets get winner n gambl                                   \n",
       "58    happened every sports bettor send us bad beats parlay badbeats knockout draftkings fanduel co qelyttqecg               \n",
       "...                                                                                                        ...               \n",
       "8795  one thing nfl common dislike john elway thedrive thefumble draftkings fantasyfootball dfs                              \n",
       "8818  seanpayton hate let man eat fantasyfootball nfl dfs draftkings                                                         \n",
       "8836  jerseykidpicks freepicks nthis opinion go overboard n co n sportsbetting sportspicks wager                             \n",
       "8850  killed dfs draftkings dk fantasyfootball nfl giants co                                                                 \n",
       "8923  jerseykidpicks freepicks nthis opinion go overboard n co n sportsbetting sportspicks wager                             \n",
       "\n",
       "      polarity  \\\n",
       "31   -0.125000   \n",
       "37   -0.400000   \n",
       "39   -0.075000   \n",
       "54   -0.166667   \n",
       "58   -0.700000   \n",
       "...        ...   \n",
       "8795 -0.300000   \n",
       "8818 -0.800000   \n",
       "8836 -0.250000   \n",
       "8850 -0.200000   \n",
       "8923 -0.250000   \n",
       "\n",
       "      subjectivity  \n",
       "31    0.200000      \n",
       "37    0.400000      \n",
       "39    0.175000      \n",
       "54    0.166667      \n",
       "58    0.666667      \n",
       "...        ...      \n",
       "8795  0.500000      \n",
       "8818  0.900000      \n",
       "8836  0.150000      \n",
       "8850  0.000000      \n",
       "8923  0.150000      \n",
       "\n",
       "[453 rows x 3 columns]"
      ]
     },
     "execution_count": 152,
     "metadata": {},
     "output_type": "execute_result"
    }
   ],
   "source": [
    "dk_neg = dk[dk.polarity < 0]\n",
    "pd.set_option('display.max_colwidth', -1) \n",
    "dk_neg"
   ]
  },
  {
   "cell_type": "code",
   "execution_count": 153,
   "metadata": {},
   "outputs": [
    {
     "name": "stderr",
     "output_type": "stream",
     "text": [
      "/Users/LMC/opt/anaconda3/lib/python3.7/site-packages/ipykernel_launcher.py:2: FutureWarning: Passing a negative integer is deprecated in version 1.0 and will not be supported in future version. Instead, use None to not limit the column width.\n",
      "  \n"
     ]
    },
    {
     "data": {
      "text/html": [
       "<div>\n",
       "<style scoped>\n",
       "    .dataframe tbody tr th:only-of-type {\n",
       "        vertical-align: middle;\n",
       "    }\n",
       "\n",
       "    .dataframe tbody tr th {\n",
       "        vertical-align: top;\n",
       "    }\n",
       "\n",
       "    .dataframe thead th {\n",
       "        text-align: right;\n",
       "    }\n",
       "</style>\n",
       "<table border=\"1\" class=\"dataframe\">\n",
       "  <thead>\n",
       "    <tr style=\"text-align: right;\">\n",
       "      <th></th>\n",
       "      <th>text</th>\n",
       "      <th>polarity</th>\n",
       "      <th>subjectivity</th>\n",
       "    </tr>\n",
       "  </thead>\n",
       "  <tbody>\n",
       "    <tr>\n",
       "      <th>20</th>\n",
       "      <td>small profit still cash nonto next one fanduel draftkings dfs co</td>\n",
       "      <td>-0.125000</td>\n",
       "      <td>0.200000</td>\n",
       "    </tr>\n",
       "    <tr>\n",
       "      <th>24</th>\n",
       "      <td>fantasypts dfs recap n scottbarrettdfb grahambarfield nand jmtowin oneweekseason reflect past weekend dfs action fa</td>\n",
       "      <td>-0.075000</td>\n",
       "      <td>0.175000</td>\n",
       "    </tr>\n",
       "    <tr>\n",
       "      <th>40</th>\n",
       "      <td>vegassyndicate booom kent state nwe points half time vip bet lets get winner n gambl</td>\n",
       "      <td>-0.166667</td>\n",
       "      <td>0.166667</td>\n",
       "    </tr>\n",
       "    <tr>\n",
       "      <th>46</th>\n",
       "      <td>happened every sports bettor send us bad beats parlay badbeats knockout draftkings fanduel co qelyttqecg</td>\n",
       "      <td>-0.700000</td>\n",
       "      <td>0.666667</td>\n",
       "    </tr>\n",
       "    <tr>\n",
       "      <th>110</th>\n",
       "      <td>dfs recap n scottbarrettdfb grahambarfield nand jmtowin oneweekseason reflect past weekend dfs act co</td>\n",
       "      <td>-0.250000</td>\n",
       "      <td>0.250000</td>\n",
       "    </tr>\n",
       "    <tr>\n",
       "      <th>...</th>\n",
       "      <td>...</td>\n",
       "      <td>...</td>\n",
       "      <td>...</td>\n",
       "    </tr>\n",
       "    <tr>\n",
       "      <th>5720</th>\n",
       "      <td>congratulations dfs army vip member teambruce total domination cfb single game slate fanduel co</td>\n",
       "      <td>-0.157143</td>\n",
       "      <td>0.454762</td>\n",
       "    </tr>\n",
       "    <tr>\n",
       "      <th>5732</th>\n",
       "      <td>girlnextdoorbet staring day face none retweet ill drop primetime pick n sportsbetting gamblingtwitte</td>\n",
       "      <td>-0.500000</td>\n",
       "      <td>1.000000</td>\n",
       "    </tr>\n",
       "    <tr>\n",
       "      <th>5736</th>\n",
       "      <td>girlnextdoorbet staring day face none retweet ill drop primetime pick n sportsbetting gamblingtwitte</td>\n",
       "      <td>-0.500000</td>\n",
       "      <td>1.000000</td>\n",
       "    </tr>\n",
       "    <tr>\n",
       "      <th>5739</th>\n",
       "      <td>girlnextdoorbet staring day face none retweet ill drop primetime pick n sportsbetting gamblingtwitte</td>\n",
       "      <td>-0.500000</td>\n",
       "      <td>1.000000</td>\n",
       "    </tr>\n",
       "    <tr>\n",
       "      <th>5740</th>\n",
       "      <td>girlnextdoorbet staring day face none retweet ill drop primetime pick n sportsbetting gamblingtwitte</td>\n",
       "      <td>-0.500000</td>\n",
       "      <td>1.000000</td>\n",
       "    </tr>\n",
       "  </tbody>\n",
       "</table>\n",
       "<p>341 rows × 3 columns</p>\n",
       "</div>"
      ],
      "text/plain": [
       "                                                                                                                      text  \\\n",
       "20     small profit still cash nonto next one fanduel draftkings dfs co                                                      \n",
       "24    fantasypts dfs recap n scottbarrettdfb grahambarfield nand jmtowin oneweekseason reflect past weekend dfs action fa    \n",
       "40    vegassyndicate booom kent state nwe points half time vip bet lets get winner n gambl                                   \n",
       "46    happened every sports bettor send us bad beats parlay badbeats knockout draftkings fanduel co qelyttqecg               \n",
       "110   dfs recap n scottbarrettdfb grahambarfield nand jmtowin oneweekseason reflect past weekend dfs act co                  \n",
       "...                                                                                                      ...                 \n",
       "5720  congratulations dfs army vip member teambruce total domination cfb single game slate fanduel co                        \n",
       "5732  girlnextdoorbet staring day face none retweet ill drop primetime pick n sportsbetting gamblingtwitte                   \n",
       "5736  girlnextdoorbet staring day face none retweet ill drop primetime pick n sportsbetting gamblingtwitte                   \n",
       "5739  girlnextdoorbet staring day face none retweet ill drop primetime pick n sportsbetting gamblingtwitte                   \n",
       "5740  girlnextdoorbet staring day face none retweet ill drop primetime pick n sportsbetting gamblingtwitte                   \n",
       "\n",
       "      polarity  \\\n",
       "20   -0.125000   \n",
       "24   -0.075000   \n",
       "40   -0.166667   \n",
       "46   -0.700000   \n",
       "110  -0.250000   \n",
       "...        ...   \n",
       "5720 -0.157143   \n",
       "5732 -0.500000   \n",
       "5736 -0.500000   \n",
       "5739 -0.500000   \n",
       "5740 -0.500000   \n",
       "\n",
       "      subjectivity  \n",
       "20    0.200000      \n",
       "24    0.175000      \n",
       "40    0.166667      \n",
       "46    0.666667      \n",
       "110   0.250000      \n",
       "...        ...      \n",
       "5720  0.454762      \n",
       "5732  1.000000      \n",
       "5736  1.000000      \n",
       "5739  1.000000      \n",
       "5740  1.000000      \n",
       "\n",
       "[341 rows x 3 columns]"
      ]
     },
     "execution_count": 153,
     "metadata": {},
     "output_type": "execute_result"
    }
   ],
   "source": [
    "fd_neg =fd[fd.polarity < 0]\n",
    "pd.set_option('display.max_colwidth', -1) \n",
    "fd_neg"
   ]
  },
  {
   "cell_type": "code",
   "execution_count": 154,
   "metadata": {},
   "outputs": [],
   "source": [
    "import numpy as np\n",
    "from IPython.core.interactiveshell import InteractiveShell\n",
    "InteractiveShell.ast_node_interactivity =\"all\""
   ]
  },
  {
   "cell_type": "code",
   "execution_count": 155,
   "metadata": {},
   "outputs": [
    {
     "data": {
      "text/plain": [
       "'DK Polarity Mean: 15.46'"
      ]
     },
     "execution_count": 155,
     "metadata": {},
     "output_type": "execute_result"
    },
    {
     "data": {
      "text/plain": [
       "'DK Subjectivity Mean: 27.19'"
      ]
     },
     "execution_count": 155,
     "metadata": {},
     "output_type": "execute_result"
    },
    {
     "data": {
      "text/plain": [
       "'DK Polarity Variance: 8.08'"
      ]
     },
     "execution_count": 155,
     "metadata": {},
     "output_type": "execute_result"
    },
    {
     "data": {
      "text/plain": [
       "'DK Subjectivity Variance: 8.03'"
      ]
     },
     "execution_count": 155,
     "metadata": {},
     "output_type": "execute_result"
    },
    {
     "name": "stdout",
     "output_type": "stream",
     "text": [
      "\n",
      "\n"
     ]
    },
    {
     "data": {
      "text/plain": [
       "'FD Polarity Mean: 16.21'"
      ]
     },
     "execution_count": 155,
     "metadata": {},
     "output_type": "execute_result"
    },
    {
     "data": {
      "text/plain": [
       "'FD Subjectivity Mean: 27.93'"
      ]
     },
     "execution_count": 155,
     "metadata": {},
     "output_type": "execute_result"
    },
    {
     "data": {
      "text/plain": [
       "'FD Polarity Variance: 8.45'"
      ]
     },
     "execution_count": 155,
     "metadata": {},
     "output_type": "execute_result"
    },
    {
     "data": {
      "text/plain": [
       "'FD Subjectivity Variance: 8.51'"
      ]
     },
     "execution_count": 155,
     "metadata": {},
     "output_type": "execute_result"
    }
   ],
   "source": [
    "dk_pol_mean = dk.polarity.mean()*100\n",
    "dk_sub_mean = dk.subjectivity.mean()*100\n",
    "dk_pol_var = dk.polarity.var()*100\n",
    "dk_sub_var = dk.subjectivity.var()*100\n",
    "\n",
    "'DK Polarity Mean: {:.2f}'.format(dk_pol_mean)\n",
    "'DK Subjectivity Mean: {:.2f}'.format(dk_sub_mean)\n",
    "'DK Polarity Variance: {:.2f}'.format(dk_pol_var)\n",
    "'DK Subjectivity Variance: {:.2f}'.format(dk_sub_var)\n",
    "print(\"\\n\")\n",
    "\n",
    "fd_pol_mean = fd.polarity.mean()*100\n",
    "fd_sub_mean = fd.subjectivity.mean()*100\n",
    "fd_pol_var = fd.polarity.var()*100\n",
    "fd_sub_var = fd.subjectivity.var()*100\n",
    "\n",
    "'FD Polarity Mean: {:.2f}'.format(fd_pol_mean)\n",
    "'FD Subjectivity Mean: {:.2f}'.format(fd_sub_mean)\n",
    "'FD Polarity Variance: {:.2f}'.format(fd_pol_var)\n",
    "'FD Subjectivity Variance: {:.2f}'.format(fd_sub_var)\n"
   ]
  },
  {
   "cell_type": "code",
   "execution_count": 162,
   "metadata": {},
   "outputs": [
    {
     "data": {
      "text/plain": [
       "<matplotlib.collections.PathCollection at 0x7fb135e05f50>"
      ]
     },
     "execution_count": 162,
     "metadata": {},
     "output_type": "execute_result"
    },
    {
     "data": {
      "text/plain": [
       "<matplotlib.collections.PathCollection at 0x7fb135cec350>"
      ]
     },
     "execution_count": 162,
     "metadata": {},
     "output_type": "execute_result"
    },
    {
     "data": {
      "text/plain": [
       "(-1.0, 1.0)"
      ]
     },
     "execution_count": 162,
     "metadata": {},
     "output_type": "execute_result"
    },
    {
     "data": {
      "text/plain": [
       "Text(0.5, 1.0, 'Sentiment Analysis')"
      ]
     },
     "execution_count": 162,
     "metadata": {},
     "output_type": "execute_result"
    },
    {
     "data": {
      "text/plain": [
       "Text(0.5, 0, '<-- Negative ------------------------------ Positive -->')"
      ]
     },
     "execution_count": 162,
     "metadata": {},
     "output_type": "execute_result"
    },
    {
     "data": {
      "text/plain": [
       "Text(0, 0.5, '<-- Facts ------------------- Opinions -->')"
      ]
     },
     "execution_count": 162,
     "metadata": {},
     "output_type": "execute_result"
    },
    {
     "data": {
      "text/plain": [
       "<matplotlib.legend.Legend at 0x7fb135de44d0>"
      ]
     },
     "execution_count": 162,
     "metadata": {},
     "output_type": "execute_result"
    },
    {
     "data": {
      "image/png": "[encoded data removed]",
      "text/plain": [
       "<Figure size 576x432 with 1 Axes>"
      ]
     },
     "metadata": {
      "needs_background": "light"
     },
     "output_type": "display_data"
    }
   ],
   "source": [
    "import matplotlib.pyplot as plt\n",
    "\n",
    "plt.rcParams['figure.figsize'] = [8, 6]\n",
    "\n",
    "fig = plt.figure()\n",
    "ax = fig.add_subplot(111)\n",
    "\n",
    "# for index, tweet in enumerate(dk.index):\n",
    "#     dk_x = dk.polarity.loc[tweet]\n",
    "#     dk_y = dk.subjectivity.loc[tweet]\n",
    "\n",
    "    \n",
    "dk_x = dk.polarity\n",
    "dk_y = dk.subjectivity\n",
    "fd_x = fd.polarity\n",
    "fd_y = fd.subjectivity\n",
    "\n",
    "ax.scatter(dk_x, dk_y, color='purple', label = 'DraftKings', alpha = .2)    \n",
    "ax.scatter(fd_x, fd_y, color='green', label = 'Fanduel', alpha = .2)    \n",
    "plt.xlim(-1, 1)    \n",
    "plt.title('Sentiment Analysis', fontsize=26)\n",
    "plt.xlabel('<-- Negative ------------------------------ Positive -->', fontsize=15)\n",
    "plt.ylabel('<-- Facts ------------------- Opinions -->', fontsize=15)\n",
    "plt.legend(loc='upper left')\n",
    "plt.savefig(\"Sentiment_Analysis.png\")\n",
    "plt.show()"
   ]
  },
  {
   "cell_type": "markdown",
   "metadata": {},
   "source": [
    "Findings: \n",
    "- Variance of Tweet Sentiment is slightly lower for DK than FD.\n",
    "- Both are Mostly positive\n"
   ]
  },
  {
   "cell_type": "code",
   "execution_count": null,
   "metadata": {},
   "outputs": [],
   "source": []
  }
 ],
 "metadata": {
  "kernelspec": {
   "display_name": "Python 3",
   "language": "python",
   "name": "python3"
  },
  "language_info": {
   "codemirror_mode": {
    "name": "ipython",
    "version": 3
   },
   "file_extension": ".py",
   "mimetype": "text/x-python",
   "name": "python",
   "nbconvert_exporter": "python",
   "pygments_lexer": "ipython3",
   "version": "3.7.7"
  }
 },
 "nbformat": 4,
 "nbformat_minor": 4
}
