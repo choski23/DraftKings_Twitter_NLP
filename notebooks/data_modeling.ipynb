{
 "cells": [
  {
   "cell_type": "code",
   "execution_count": 48,
   "metadata": {},
   "outputs": [],
   "source": [
    "import pandas as pd\n",
    "import numpy as np\n",
    "from numpy.linalg import svd, eig\n",
    "import matplotlib.pyplot as plt\n",
    "import matplotlib.patches as patches\n",
    "from matplotlib import cm\n",
    "from sklearn.decomposition import PCA\n",
    "from pandas.plotting import scatter_matrix\n",
    "\n",
    "# Always make it pretty.\n",
    "plt.style.use('ggplot')\n",
    "\n",
    "%matplotlib inline"
   ]
  },
  {
   "cell_type": "code",
   "execution_count": 138,
   "metadata": {},
   "outputs": [],
   "source": [
    "import pickle\n",
    "from gensim import matutils, models\n",
    "import scipy.sparse"
   ]
  },
  {
   "cell_type": "code",
   "execution_count": 154,
   "metadata": {},
   "outputs": [],
   "source": [
    "dk = pd.read_pickle('data/dk_clean.pkl')\n",
    "fd = pd.read_pickle('data/fd_clean.pkl')\n",
    "\n",
    "#import the Document Term Matrix\n",
    "dk_tf_df = pd.read_pickle('data/dk_tf_df.pkl').transpose()\n",
    "fd_tf_df = pd.read_pickle('data/dk_tf_df.pkl').transpose()\n",
    "\n",
    "#import the vectorizers\n",
    "dk_vectorizer = pickle.load(open('data/dk_vectorizer.pkl', 'rb'))\n",
    "fd_vectorizer = pickle.load(open('data/fd_vectorizer.pkl', 'rb'))\n",
    "\n",
    "dk_X = dk_vectorizer.fit_transform(dk.text)\n",
    "fd_X = fd_vectorizer.fit_transform(fd.text)"
   ]
  },
  {
   "cell_type": "markdown",
   "metadata": {},
   "source": [
    "# Modeling with All Text"
   ]
  },
  {
   "cell_type": "code",
   "execution_count": 155,
   "metadata": {},
   "outputs": [],
   "source": [
    "#gensim format df --> sparse matrix --> gensim corpus\n",
    "dk_sparse_counts = scipy.sparse.csr_matrix(dk_tf_df)\n",
    "dk_corpus = matutils.Sparse2Corpus(dk_sparse_counts)\n",
    "\n",
    "fd_sparse_counts = scipy.sparse.csr_matrix(fd_tf_df)\n",
    "fd_corpus = matutils.Sparse2Corpus(fd_sparse_counts)"
   ]
  },
  {
   "cell_type": "code",
   "execution_count": 156,
   "metadata": {},
   "outputs": [
    {
     "data": {
      "text/plain": [
       "<gensim.matutils.Sparse2Corpus at 0x7f9667021e10>"
      ]
     },
     "execution_count": 156,
     "metadata": {},
     "output_type": "execute_result"
    }
   ],
   "source": [
    "dk_corpus"
   ]
  },
  {
   "cell_type": "code",
   "execution_count": 157,
   "metadata": {},
   "outputs": [],
   "source": [
    "#gensim requires dictionary of all term and location within the term-document matrix\n",
    "dk_idx_2word = dict((v, k) for k, v in dk_vectorizer.vocabulary_.items())\n",
    "fd_idx_2word = dict((v, k) for k, v in fd_vectorizer.vocabulary_.items())"
   ]
  },
  {
   "cell_type": "code",
   "execution_count": 158,
   "metadata": {},
   "outputs": [
    {
     "data": {
      "text/plain": [
       "1500"
      ]
     },
     "execution_count": 158,
     "metadata": {},
     "output_type": "execute_result"
    }
   ],
   "source": [
    "len(dk_idx_2word)"
   ]
  },
  {
   "cell_type": "code",
   "execution_count": 159,
   "metadata": {},
   "outputs": [],
   "source": [
    "# DK Latent Dirichlet Allocation\n",
    "# dk_lda = models.LdaModel(corpus=dk_corpus, id2word=dk_idx_2word, num_topics=2, passes=10)\n",
    "# dk_lda.print_topics()"
   ]
  },
  {
   "cell_type": "code",
   "execution_count": 160,
   "metadata": {},
   "outputs": [
    {
     "data": {
      "text/plain": [
       "[(0,\n",
       "  '0.397*\"dk\" + 0.395*\"entered\" + 0.386*\"nfl dfs\" + 0.377*\"dfs seahawks\" + 0.332*\"expertpicks\" + 0.161*\"thanksgiving slate\" + 0.157*\"post tonights showdown\" + 0.155*\"options\" + 0.134*\"shares\" + 0.114*\"fifth\"'),\n",
       " (1,\n",
       "  '0.354*\"dfs\" + 0.347*\"rolling\" + 0.288*\"winner day\" + 0.252*\"ufc\" + 0.232*\"fanduel nfl dfs\" + 0.222*\"packers rts tweet\" + 0.216*\"follows ven\" + 0.201*\"tonights showdown lineup\" + -0.192*\"dk\" + -0.187*\"entered\"')]"
      ]
     },
     "execution_count": 160,
     "metadata": {},
     "output_type": "execute_result"
    }
   ],
   "source": [
    "# DK Latent Semantic Indexing\n",
    "dk_lsi = models.LsiModel(corpus=dk_corpus, id2word=dk_idx_2word, num_topics=2)\n",
    "dk_lsi.print_topics()"
   ]
  },
  {
   "cell_type": "code",
   "execution_count": null,
   "metadata": {},
   "outputs": [],
   "source": [
    "dk_vocab = list(model.wv.vocab)\n",
    "X = model[vocab]"
   ]
  },
  {
   "cell_type": "code",
   "execution_count": 86,
   "metadata": {},
   "outputs": [],
   "source": [
    "#FD Latent Dirichlet Allocation\n",
    "# fd_lda = models.LdaModel(corpus=fd_corpus, id2word=fd_idx_2word, num_topics=2, passes=10)\n",
    "# fd_lda.print_topics()"
   ]
  },
  {
   "cell_type": "code",
   "execution_count": 192,
   "metadata": {},
   "outputs": [
    {
     "data": {
      "text/plain": [
       "[(0,\n",
       "  '-0.397*\"discount vip\" + -0.395*\"fanduel draftkings\" + -0.386*\"ncaaf cbb\" + -0.377*\"dfs packers\" + -0.332*\"fanduel nfl\" + -0.161*\"today\" + -0.157*\"projections fanduel\" + -0.155*\"ownership rankings\" + -0.134*\"south\" + -0.114*\"free xef\"'),\n",
       " (1,\n",
       "  '-0.354*\"defense streamers\" + -0.347*\"sea vs\" + -0.288*\"winner ut\" + -0.252*\"utarlington\" + -0.232*\"final\" + -0.223*\"person rts\" + -0.216*\"game rankings\" + -0.201*\"trying\" + 0.192*\"discount vip\" + 0.187*\"fanduel draftkings\"'),\n",
       " (2,\n",
       "  '-0.561*\"going\" + -0.535*\"want advantage\" + -0.379*\"extra\" + -0.222*\"read\" + -0.152*\"single game\" + -0.147*\"strategy\" + -0.144*\"link xef\" + -0.144*\"super\" + -0.073*\"tie\" + -0.069*\"main slate\"'),\n",
       " (3,\n",
       "  '-0.259*\"game rankings\" + 0.253*\"final\" + 0.251*\"trying\" + 0.222*\"spot today\" + 0.207*\"packers rts\" + 0.206*\"barstoolsportsbook draftkings\" + 0.196*\"fanduel nfl\" + -0.186*\"today\" + 0.185*\"utarlington\" + -0.168*\"games\"'),\n",
       " (4,\n",
       "  '0.297*\"following\" + 0.242*\"xbe\" + -0.232*\"south\" + 0.232*\"winner ut\" + 0.202*\"thewackyreport\" + 0.199*\"primetime\" + -0.198*\"dailysportpickz bears\" + 0.196*\"beat\" + -0.194*\"redskins\" + 0.191*\"pottsville\"'),\n",
       " (5,\n",
       "  '-0.298*\"awesemogolf\" + -0.292*\"amp shipmymoneydfs\" + -0.255*\"nour\" + -0.249*\"late\" + -0.199*\"weekend\" + 0.165*\"nfl world\" + 0.164*\"fighter projections\" + -0.163*\"utarlington\" + 0.160*\"fanduel nfl\" + -0.159*\"south\"'),\n",
       " (6,\n",
       "  '-0.298*\"free xef\" + -0.283*\"sp\" + -0.276*\"south\" + 0.208*\"jersey angelina\" + -0.180*\"following\" + 0.154*\"fanduel draftkings\" + 0.150*\"free week\" + 0.144*\"pockets\" + -0.140*\"projections fanduel\" + 0.138*\"following ente\"')]"
      ]
     },
     "execution_count": 192,
     "metadata": {},
     "output_type": "execute_result"
    }
   ],
   "source": [
    "#FD Latent Semantic Indexing\n",
    "fd_lsi = models.LsiModel(corpus=fd_corpus, id2word=fd_idx_2word, num_topics=7)\n",
    "fd_lsi.print_topics()"
   ]
  },
  {
   "cell_type": "markdown",
   "metadata": {},
   "source": [
    "# Modeling with only nouns"
   ]
  },
  {
   "cell_type": "code",
   "execution_count": 125,
   "metadata": {},
   "outputs": [
    {
     "name": "stderr",
     "output_type": "stream",
     "text": [
      "[nltk_data] Downloading package averaged_perceptron_tagger to\n",
      "[nltk_data]     /Users/LMC/nltk_data...\n",
      "[nltk_data]   Package averaged_perceptron_tagger is already up-to-\n",
      "[nltk_data]       date!\n"
     ]
    }
   ],
   "source": [
    "import nltk\n",
    "from nltk import word_tokenize, pos_tag\n",
    "nltk.download('averaged_perceptron_tagger')\n",
    "\n",
    "def nouns(text):\n",
    "    '''Given a string of text, tokenize the text and pull out only the nouns.'''\n",
    "    is_noun = lambda pos: pos[:2] == 'NN'\n",
    "    tokenized = word_tokenize(text)\n",
    "    all_nouns = [word for (word, pos) in pos_tag(tokenized) if is_noun(pos)] \n",
    "    return ' '.join(all_nouns)"
   ]
  },
  {
   "cell_type": "code",
   "execution_count": 126,
   "metadata": {},
   "outputs": [],
   "source": [
    "dk_nouns = pd.DataFrame(dk.text.apply(nouns))\n",
    "fd_nouns = pd.DataFrame(fd.text.apply(nouns))"
   ]
  },
  {
   "cell_type": "code",
   "execution_count": 135,
   "metadata": {},
   "outputs": [],
   "source": [
    "from sklearn.feature_extraction import text\n",
    "from sklearn.feature_extraction.text import CountVectorizer, TfidfVectorizer\n",
    "\n",
    "# Re-add the additional stop words since we are recreating the document-term matrix\n",
    "add_stop_words = ['co', 'nfl', 'dfs', 'draftkings', 'fanduel', 'n', 'vs', 'xef', 'rts', 'snf', 'dk', 'rts', \n",
    "                  'mnf', 'nmust']\n",
    "stop_words = text.ENGLISH_STOP_WORDS.union(add_stop_words)\n",
    "\n",
    "# Recreate a document-term matrix with only nouns\n",
    "vectorizern = TfidfVectorizer(stop_words=stop_words, max_df = .8)"
   ]
  },
  {
   "cell_type": "code",
   "execution_count": 136,
   "metadata": {},
   "outputs": [
    {
     "data": {
      "text/plain": [
       "[(0,\n",
       "  '-0.543*\"dailysportpickz\" + -0.432*\"tweet\" + -0.362*\"packers\" + -0.360*\"person\" + -0.315*\"bears\"'),\n",
       " (1,\n",
       "  '0.588*\"fantasyfootball\" + 0.533*\"projections\" + 0.419*\"ownership\" + 0.269*\"game\" + 0.205*\"rankings\"')]"
      ]
     },
     "execution_count": 136,
     "metadata": {},
     "output_type": "execute_result"
    }
   ],
   "source": [
    "dk_vectorizer = vectorizern.fit_transform(dk_nouns.text)\n",
    "dk_tf_df = pd.DataFrame(dk_vectorizer.toarray(), columns=vectorizern.get_feature_names())\n",
    "dk_tf_df.index = dk_nouns.index\n",
    "\n",
    "# Create the gensim corpus\n",
    "dk_corpusn = matutils.Sparse2Corpus(scipy.sparse.csr_matrix(dk_tf_df.transpose()))\n",
    "\n",
    "# Create the vocabulary dictionary\n",
    "dk_id2wordn = dict((v, k) for k, v in vectorizern.vocabulary_.items())\n",
    "\n",
    "# DK Latent Semantic Indexing\n",
    "dk_lsi = models.LsiModel(corpus=dk_corpusn, id2word=dk_id2wordn, num_topics=2)\n",
    "dk_lsi.print_topics(num_words = 5)"
   ]
  },
  {
   "cell_type": "code",
   "execution_count": 137,
   "metadata": {},
   "outputs": [
    {
     "data": {
      "text/plain": [
       "[(0,\n",
       "  '-0.588*\"dailysportpickz\" + -0.407*\"tweet\" + -0.322*\"person\" + -0.282*\"packers\" + -0.255*\"giveaway\"'),\n",
       " (1,\n",
       "  '-0.589*\"fantasyfootball\" + -0.545*\"projections\" + -0.442*\"ownership\" + -0.222*\"game\" + -0.207*\"rankings\"')]"
      ]
     },
     "execution_count": 137,
     "metadata": {},
     "output_type": "execute_result"
    }
   ],
   "source": [
    "fd_vectorizer = vectorizern.fit_transform(fd_nouns.text)\n",
    "fd_tf_df = pd.DataFrame(fd_vectorizer.toarray(), columns=vectorizern.get_feature_names())\n",
    "fd_tf_df.index = fd_nouns.index\n",
    "\n",
    "# Create the gensim corpus\n",
    "fd_corpusn = matutils.Sparse2Corpus(scipy.sparse.csr_matrix(fd_tf_df.transpose()))\n",
    "\n",
    "# Create the vocabulary dictionary\n",
    "fd_id2wordn = dict((v, k) for k, v in vectorizern.vocabulary_.items())\n",
    "\n",
    "# DK Latent Semantic Indexing\n",
    "fd_lsi = models.LsiModel(corpus=fd_corpusn, id2word=fd_id2wordn, num_topics=2)\n",
    "fd_lsi.print_topics(num_words = 5)"
   ]
  },
  {
   "cell_type": "markdown",
   "metadata": {},
   "source": [
    "LSI provides both positive and negative weights per topic. A positive weight means the word is highly representative of a topic, while a negative weight means the word is highly unrepresentative of a topic (the less it occurs in a text, the more likely the topic)."
   ]
  },
  {
   "cell_type": "markdown",
   "metadata": {},
   "source": [
    "# Modeling with Nouns and Adjectives"
   ]
  },
  {
   "cell_type": "code",
   "execution_count": 130,
   "metadata": {},
   "outputs": [],
   "source": [
    "def nouns_adj(text):\n",
    "    '''Given a string of text, tokenize the text and pull out only the nouns and adjectives.'''\n",
    "    is_noun_adj = lambda pos: pos[:2] == 'NN' or pos[:2] == 'JJ'\n",
    "    tokenized = word_tokenize(text)\n",
    "    nouns_adj = [word for (word, pos) in pos_tag(tokenized) if is_noun_adj(pos)] \n",
    "    return ' '.join(nouns_adj)"
   ]
  },
  {
   "cell_type": "code",
   "execution_count": 132,
   "metadata": {},
   "outputs": [],
   "source": [
    "dk_nouns_adj = pd.DataFrame(dk.text.apply(nouns_adj))\n",
    "fd_nouns_adj = pd.DataFrame(fd.text.apply(nouns_adj))"
   ]
  },
  {
   "cell_type": "code",
   "execution_count": 189,
   "metadata": {},
   "outputs": [
    {
     "data": {
      "text/plain": [
       "[(0,\n",
       "  '0.483*\"dailysportpickz\" + 0.399*\"tweet\" + 0.376*\"tonight\" + 0.333*\"packers\" + 0.318*\"person\"'),\n",
       " (1,\n",
       "  '-0.627*\"fantasyfootball\" + -0.355*\"projections\" + -0.318*\"ownership\" + -0.290*\"game\" + -0.275*\"single\"')]"
      ]
     },
     "execution_count": 189,
     "metadata": {},
     "output_type": "execute_result"
    }
   ],
   "source": [
    "vectorizerna = TfidfVectorizer(stop_words=stop_words, max_df = .8)\n",
    "dk_vectorizerna = vectorizerna.fit_transform(dk_nouns_adj.text)\n",
    "dk_na = pd.DataFrame(dk_vectorizerna.toarray(), columns=vectorizerna.get_feature_names())\n",
    "dk_na.index = dk_nouns_adj.index\n",
    "\n",
    "# Create the gensim corpus\n",
    "dk_corpusna = matutils.Sparse2Corpus(scipy.sparse.csr_matrix(dk_na.transpose()))\n",
    "\n",
    "# Create the vocabulary dictionary\n",
    "dk_id2wordna = dict((v, k) for k, v in vectorizerna.vocabulary_.items())\n",
    "\n",
    "# DK Latent Semantic Indexing\n",
    "dk_lsi = models.LsiModel(corpus=dk_corpusna, id2word=dk_id2wordna, num_topics=2)\n",
    "dk_lsi.print_topics(num_words = 5)\n"
   ]
  },
  {
   "cell_type": "code",
   "execution_count": null,
   "metadata": {},
   "outputs": [],
   "source": []
  },
  {
   "cell_type": "code",
   "execution_count": 185,
   "metadata": {},
   "outputs": [
    {
     "data": {
      "image/png": "[encoded data removed]",
      "text/plain": [
       "<Figure size 1152x576 with 1 Axes>"
      ]
     },
     "metadata": {
      "needs_background": "light"
     },
     "output_type": "display_data"
    }
   ],
   "source": [
    "doc_lens = [len(d.split()) for d in dk.text]\n",
    "\n",
    "# Plot\n",
    "plt.figure(figsize=(16,8))\n",
    "plt.hist(doc_lens, bins = 10, color='navy')\n",
    "plt.text(20, 1000, \"Mean   : \" + str(round(np.mean(doc_lens))), size = 16)\n",
    "plt.text(20,  900, \"Median : \" + str(round(np.median(doc_lens))), size = 16)\n",
    "plt.text(20,  800, \"Stdev   : \" + str(round(np.std(doc_lens))),  size = 16)\n",
    "plt.text(20,  700, \"1%ile    : \" + str(round(np.quantile(doc_lens, q=0.01))),  size = 16)\n",
    "plt.text(20,  600, \"99%ile  : \" + str(round(np.quantile(doc_lens, q=0.99))),  size = 16)\n",
    "plt.tight_layout()\n",
    "\n",
    "plt.gca().set(xlim=(0, 26), ylabel='Number of Documents', xlabel='Document Word Count')\n",
    "plt.tick_params(size=16)\n",
    "plt.xticks(np.linspace(0,25,5))\n",
    "plt.title('Distribution of Document Word Counts', fontdict=dict(size=22))\n",
    "plt.show()"
   ]
  },
  {
   "cell_type": "code",
   "execution_count": 186,
   "metadata": {},
   "outputs": [
    {
     "data": {
      "image/png": "[encoded data removed]",
      "text/plain": [
       "<Figure size 1152x576 with 1 Axes>"
      ]
     },
     "metadata": {
      "needs_background": "light"
     },
     "output_type": "display_data"
    }
   ],
   "source": [
    "doc_lens = [len(d.split()) for d in fd.text]\n",
    "\n",
    "# Plot\n",
    "plt.figure(figsize=(16,8))\n",
    "plt.hist(doc_lens, bins = 10, color='navy')\n",
    "plt.text(20, 1000, \"Mean   : \" + str(round(np.mean(doc_lens))), size = 16)\n",
    "plt.text(20,  900, \"Median : \" + str(round(np.median(doc_lens))), size = 16)\n",
    "plt.text(20,  800, \"Stdev   : \" + str(round(np.std(doc_lens))),  size = 16)\n",
    "plt.text(20,  700, \"1%ile    : \" + str(round(np.quantile(doc_lens, q=0.01))),  size = 16)\n",
    "plt.text(20,  600, \"99%ile  : \" + str(round(np.quantile(doc_lens, q=0.99))),  size = 16)\n",
    "plt.tight_layout()\n",
    "\n",
    "plt.gca().set(xlim=(0, 26), ylabel='Number of Documents', xlabel='Document Word Count')\n",
    "plt.tick_params(size=16)\n",
    "plt.xticks(np.linspace(0,25,5))\n",
    "plt.title('Distribution of Document Word Counts', fontdict=dict(size=22))\n",
    "plt.show()"
   ]
  },
  {
   "cell_type": "code",
   "execution_count": null,
   "metadata": {},
   "outputs": [],
   "source": []
  }
 ],
 "metadata": {
  "kernelspec": {
   "display_name": "Python 3",
   "language": "python",
   "name": "python3"
  },
  "language_info": {
   "codemirror_mode": {
    "name": "ipython",
    "version": 3
   },
   "file_extension": ".py",
   "mimetype": "text/x-python",
   "name": "python",
   "nbconvert_exporter": "python",
   "pygments_lexer": "ipython3",
   "version": "3.7.7"
  }
 },
 "nbformat": 4,
 "nbformat_minor": 4
}
