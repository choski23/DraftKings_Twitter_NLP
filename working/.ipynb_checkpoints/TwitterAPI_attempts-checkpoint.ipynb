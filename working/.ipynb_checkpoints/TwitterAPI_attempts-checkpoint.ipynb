{
 "cells": [
  {
   "cell_type": "code",
   "execution_count": 1,
   "metadata": {},
   "outputs": [],
   "source": [
    "from tweepy import API\n",
    "from tweepy import Cursor\n",
    "from tweepy.streaming import StreamListener\n",
    "from tweepy import OAuthHandler\n",
    "from tweepy import Stream\n",
    "\n",
    "import twitter_credentials\n",
    "from tweet_miner import TweetMiner\n",
    "\n",
    "import numpy as np\n",
    "import pandas as pd"
   ]
  },
  {
   "cell_type": "code",
   "execution_count": 2,
   "metadata": {},
   "outputs": [],
   "source": [
    "hash_tag_list = ['DraftKings', 'DraftKings_bet', 'DK_Assist' 'FanDuel', 'FDSportsbook', 'FanDuel_Support']"
   ]
  },
  {
   "cell_type": "code",
   "execution_count": 3,
   "metadata": {
    "scrolled": true
   },
   "outputs": [
    {
     "data": {
      "text/plain": [
       "[{'tweet_id': 1333267679256473601,\n",
       "  'name': 'DraftKings',\n",
       "  'screen_name': 'DraftKings',\n",
       "  'retweet_count': 1,\n",
       "  'text': 'Not a bad night for Aaron Rodgers 🔥 https://t.co/yiTCZ8NXk7',\n",
       "  'mined_at': datetime.datetime(2020, 11, 30, 0, 33, 34, 361445),\n",
       "  'created_at': datetime.datetime(2020, 11, 30, 4, 32, 40),\n",
       "  'favourite_count': 13,\n",
       "  'hashtags': [],\n",
       "  'status_count': 80550,\n",
       "  'location': 'Boston, MA',\n",
       "  'source_device': 'Twitter Web App',\n",
       "  'retweet_text': 'None',\n",
       "  'quote_text': 'None',\n",
       "  'quote_screen_name': 'None'},\n",
       " {'tweet_id': 1333256808677462016,\n",
       "  'name': 'DraftKings',\n",
       "  'screen_name': 'DraftKings',\n",
       "  'retweet_count': 12,\n",
       "  'text': 'RT @DKSportsbook: Green Bay Bettors:  https://t.co/St90ILyyuU',\n",
       "  'mined_at': datetime.datetime(2020, 11, 30, 0, 33, 34, 597084),\n",
       "  'created_at': datetime.datetime(2020, 11, 30, 3, 49, 28),\n",
       "  'favourite_count': 0,\n",
       "  'hashtags': [],\n",
       "  'status_count': 80550,\n",
       "  'location': 'Boston, MA',\n",
       "  'source_device': 'TweetDeck',\n",
       "  'retweet_text': 'Green Bay Bettors:  https://t.co/St90ILyyuU',\n",
       "  'quote_text': 'None',\n",
       "  'quote_screen_name': 'None'},\n",
       " {'tweet_id': 1333249640096034818,\n",
       "  'name': 'DraftKings',\n",
       "  'screen_name': 'DraftKings',\n",
       "  'retweet_count': 1,\n",
       "  'text': 'LEADERBOARD LIVE: @BJ_Glash and @mattlamarca discuss what fantasy managers should expect from Aaron Jones in the second half.\\n\\nYouTube: https://t.co/bS6FMYDpvQ https://t.co/CqaxQ5bg8q',\n",
       "  'mined_at': datetime.datetime(2020, 11, 30, 0, 33, 34, 824516),\n",
       "  'created_at': datetime.datetime(2020, 11, 30, 3, 20, 59),\n",
       "  'favourite_count': 5,\n",
       "  'hashtags': [],\n",
       "  'status_count': 80550,\n",
       "  'location': 'Boston, MA',\n",
       "  'source_device': 'Twitter Web App',\n",
       "  'retweet_text': 'None',\n",
       "  'quote_text': 'None',\n",
       "  'quote_screen_name': 'None'},\n",
       " {'tweet_id': 1333242506574778369,\n",
       "  'name': 'DraftKings',\n",
       "  'screen_name': 'DraftKings',\n",
       "  'retweet_count': 2,\n",
       "  'text': 'Who do you need to go off in the next half?',\n",
       "  'mined_at': datetime.datetime(2020, 11, 30, 0, 33, 35, 53261),\n",
       "  'created_at': datetime.datetime(2020, 11, 30, 2, 52, 38),\n",
       "  'favourite_count': 30,\n",
       "  'hashtags': [],\n",
       "  'status_count': 80550,\n",
       "  'location': 'Boston, MA',\n",
       "  'source_device': 'Twitter Web App',\n",
       "  'retweet_text': 'None',\n",
       "  'quote_text': 'None',\n",
       "  'quote_screen_name': 'None'},\n",
       " {'tweet_id': 1333235049941118976,\n",
       "  'name': 'DraftKings',\n",
       "  'screen_name': 'DraftKings',\n",
       "  'retweet_count': 2,\n",
       "  'text': 'Rodgers hits Lazard for his third TD of the night! \\nhttps://t.co/dQro32wnUa',\n",
       "  'mined_at': datetime.datetime(2020, 11, 30, 0, 33, 35, 283277),\n",
       "  'created_at': datetime.datetime(2020, 11, 30, 2, 23),\n",
       "  'favourite_count': 21,\n",
       "  'hashtags': [],\n",
       "  'status_count': 80550,\n",
       "  'location': 'Boston, MA',\n",
       "  'source_device': 'Twitter Web App',\n",
       "  'retweet_text': 'None',\n",
       "  'quote_text': 'None',\n",
       "  'quote_screen_name': 'None'}]"
      ]
     },
     "execution_count": 3,
     "metadata": {},
     "output_type": "execute_result"
    }
   ],
   "source": [
    "tweets = TweetMiner()\n",
    "tweets.mine_user_tweets(user='DraftKings')"
   ]
  },
  {
   "cell_type": "code",
   "execution_count": 6,
   "metadata": {},
   "outputs": [],
   "source": [
    "from analyze_twitter_data import TweetAnalyzer"
   ]
  },
  {
   "cell_type": "code",
   "execution_count": 7,
   "metadata": {},
   "outputs": [],
   "source": [
    "analyze = TweetAnalyzer()"
   ]
  },
  {
   "cell_type": "code",
   "execution_count": 9,
   "metadata": {},
   "outputs": [
    {
     "data": {
      "text/plain": [
       "<bound method TweetAnalyzer.tweets_to_data_frame of <analyze_twitter_data.TweetAnalyzer object at 0x7fa18c251a10>>"
      ]
     },
     "execution_count": 9,
     "metadata": {},
     "output_type": "execute_result"
    }
   ],
   "source": [
    "analyze.tweets_to_data_frame"
   ]
  },
  {
   "cell_type": "code",
   "execution_count": null,
   "metadata": {},
   "outputs": [],
   "source": []
  }
 ],
 "metadata": {
  "kernelspec": {
   "display_name": "Python 3",
   "language": "python",
   "name": "python3"
  },
  "language_info": {
   "codemirror_mode": {
    "name": "ipython",
    "version": 3
   },
   "file_extension": ".py",
   "mimetype": "text/x-python",
   "name": "python",
   "nbconvert_exporter": "python",
   "pygments_lexer": "ipython3",
   "version": "3.7.7"
  }
 },
 "nbformat": 4,
 "nbformat_minor": 4
}
