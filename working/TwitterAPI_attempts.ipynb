{
 "cells": [
  {
   "cell_type": "code",
   "execution_count": 1,
   "metadata": {},
   "outputs": [],
   "source": [
    "from tweepy import API\n",
    "from tweepy import Cursor\n",
    "from tweepy.streaming import StreamListener\n",
    "from tweepy import OAuthHandler\n",
    "from tweepy import Stream\n",
    "\n",
    "import twitter_credentials\n",
    "from tweet_miner import TweetMiner\n",
    "\n",
    "from analyze_twitter_data import TweetAnalyzer\n",
    "from analyze_twitter_data import TwitterClient\n",
    "from analyze_twitter_data import TwitterListener\n",
    "from analyze_twitter_data import TwitterStreamer\n",
    "\n",
    "import numpy as np\n",
    "import pandas as pd\n",
    "\n",
    "%load_ext autoreload\n",
    "%autoreload 2"
   ]
  },
  {
   "cell_type": "code",
   "execution_count": null,
   "metadata": {},
   "outputs": [],
   "source": [
    "hash_tag_list = ['DraftKings', 'DraftKings_bet', 'DK_Assist' 'FanDuel', 'FDSportsbook', 'FanDuel_Support', 'PNGamingInc', 'barstoolsports']"
   ]
  },
  {
   "cell_type": "code",
   "execution_count": null,
   "metadata": {},
   "outputs": [],
   "source": [
    "usernames = ['DraftKings', 'DraftKings_bet','DK_Assist' 'FanDuel', 'FDSportsbook', 'FanDuel_Support', 'PNGamingInc', 'barstoolsports']"
   ]
  },
  {
   "cell_type": "code",
   "execution_count": 2,
   "metadata": {},
   "outputs": [],
   "source": [
    "ACCESS_TOKEN = \"2888838179-DPfnSZyVwbzIDoXOYOeFfsnA83ySwM2ApgRIHtA\"\n",
    "ACCESS_TOKEN_SECRET = \"jIw68X4pGlSV3cb58urKrL8mm7EobdtBf9d6XE6XS5MEg\"\n",
    "CONSUMER_KEY = \"Y6mRvbhFaZinGb3HMbaekWLk9\"\n",
    "CONSUMER_SECRET = \"R1IWmvvddzAwoJsB3iBogjm8dbncGfiPep5T56D05tZPfUUwBa\""
   ]
  },
  {
   "cell_type": "code",
   "execution_count": 3,
   "metadata": {
    "scrolled": true
   },
   "outputs": [],
   "source": [
    "def twitter_setup():\n",
    "    \"\"\"\n",
    "    Utility function to setup the Twitter's API\n",
    "    with our access keys provided.\n",
    "    \"\"\"\n",
    "    # Authentication and access using keys:\n",
    "    auth = OAuthHandler(CONSUMER_KEY, CONSUMER_SECRET)\n",
    "    auth.set_access_token(ACCESS_TOKEN, ACCESS_TOKEN_SECRET)\n",
    "\n",
    "    # Return API with authentication:\n",
    "    api = API(auth)\n",
    "    return api"
   ]
  },
  {
   "cell_type": "code",
   "execution_count": 4,
   "metadata": {},
   "outputs": [],
   "source": [
    "class TweetAnalyzer():\n",
    "    def tweets_to_data_frame(self, tweets):\n",
    "\n",
    "        df = pd.DataFrame(data=[tweet.full_text for tweet in tweets], columns=['Tweets'])\n",
    "\n",
    "        df['username'] = np.array([tweet.user.name for tweet in tweets])\n",
    "        df['date'] = np.array([tweet.created_at for tweet in tweets])\n",
    "        df['source_device'] = np.array([tweet.source for tweet in tweets])\n",
    "        df['likes'] = np.array([tweet.favorite_count for tweet in tweets])\n",
    "        df['retweets'] = np.array([tweet.retweet_count for tweet in tweets])\n",
    "        df['location'] = np.array([tweet.place for tweet in tweets])\n",
    "\n",
    "        return df"
   ]
  },
  {
   "cell_type": "code",
   "execution_count": 8,
   "metadata": {},
   "outputs": [],
   "source": [
    "extractor = twitter_setup()\n",
    "dk_tweets = extractor.user_timeline(screen_name=\"DraftKings\", tweet_mode=\"extended\", count=200)\n",
    "fd_tweets = extractor.user_timeline(screen_name=\"FanDuel\", tweet_mode=\"extended\", count=200)\n",
    "#only allows 200"
   ]
  },
  {
   "cell_type": "code",
   "execution_count": 9,
   "metadata": {},
   "outputs": [
    {
     "name": "stderr",
     "output_type": "stream",
     "text": [
      "/Users/LMC/opt/anaconda3/lib/python3.7/site-packages/ipykernel_launcher.py:2: FutureWarning: Passing a negative integer is deprecated in version 1.0 and will not be supported in future version. Instead, use None to not limit the column width.\n",
      "  \n"
     ]
    }
   ],
   "source": [
    "df = TweetAnalyzer()\n",
    "pd.set_option(\"display.max_colwidth\", -1)\n",
    "draftkings_df = df.tweets_to_data_frame(dk_tweets)\n",
    "fanduel_df = df.tweets_to_data_frame(fd_tweets)"
   ]
  },
  {
   "cell_type": "code",
   "execution_count": 10,
   "metadata": {},
   "outputs": [
    {
     "name": "stdout",
     "output_type": "stream",
     "text": [
      "<class 'pandas.core.frame.DataFrame'>\n",
      "RangeIndex: 200 entries, 0 to 199\n",
      "Data columns (total 7 columns):\n",
      " #   Column         Non-Null Count  Dtype         \n",
      "---  ------         --------------  -----         \n",
      " 0   Tweets         200 non-null    object        \n",
      " 1   username       200 non-null    object        \n",
      " 2   date           200 non-null    datetime64[ns]\n",
      " 3   source_device  200 non-null    object        \n",
      " 4   likes          200 non-null    int64         \n",
      " 5   retweets       200 non-null    int64         \n",
      " 6   location       0 non-null      object        \n",
      "dtypes: datetime64[ns](1), int64(2), object(4)\n",
      "memory usage: 11.1+ KB\n"
     ]
    }
   ],
   "source": [
    "draftkings_df.info()"
   ]
  },
  {
   "cell_type": "code",
   "execution_count": null,
   "metadata": {
    "scrolled": true
   },
   "outputs": [],
   "source": [
    "tweets = TweetMiner()\n",
    "tweets = tweets.mine_user_tweets(user='DraftKings')"
   ]
  },
  {
   "cell_type": "code",
   "execution_count": null,
   "metadata": {
    "scrolled": true
   },
   "outputs": [],
   "source": [
    "client = TwitterClient(twitter_user='DraftKings')\n",
    "client.get_home_timeline_tweets(10)"
   ]
  },
  {
   "cell_type": "code",
   "execution_count": null,
   "metadata": {
    "scrolled": true
   },
   "outputs": [],
   "source": [
    "stream = TwitterStreamer()\n",
    "stream = stream.stream_tweets('streams.txt', hash_tag_list)\n",
    "stream"
   ]
  },
  {
   "cell_type": "code",
   "execution_count": null,
   "metadata": {},
   "outputs": [],
   "source": [
    "with open(streams)\n",
    "df = TweetAnalyzer()\n",
    "pd.set_option(\"display.max_colwidth\", -1)\n",
    "draftkings_df = df.tweets_to_data_frame(tweets)\n",
    "draftkings_df"
   ]
  },
  {
   "cell_type": "code",
   "execution_count": null,
   "metadata": {},
   "outputs": [],
   "source": []
  }
 ],
 "metadata": {
  "kernelspec": {
   "display_name": "Python 3",
   "language": "python",
   "name": "python3"
  },
  "language_info": {
   "codemirror_mode": {
    "name": "ipython",
    "version": 3
   },
   "file_extension": ".py",
   "mimetype": "text/x-python",
   "name": "python",
   "nbconvert_exporter": "python",
   "pygments_lexer": "ipython3",
   "version": "3.7.7"
  }
 },
 "nbformat": 4,
 "nbformat_minor": 4
}
